{
 "cells": [
  {
   "cell_type": "markdown",
   "metadata": {},
   "source": [
    "Before you turn this problem in, make sure everything runs as expected. First, **restart the kernel** (in the menubar, select Kernel$\\rightarrow$Restart) and then **run all cells** (in the menubar, select Cell$\\rightarrow$Run All).\n",
    "\n",
    "Make sure you fill in any place that says `YOUR CODE HERE` or \"YOUR ANSWER HERE\", as well as your name and collaborators below:"
   ]
  },
  {
   "cell_type": "code",
   "execution_count": null,
   "metadata": {},
   "outputs": [],
   "source": [
    "NAME = \"\"\n",
    "COLLABORATORS = \"\""
   ]
  },
  {
   "cell_type": "markdown",
   "metadata": {},
   "source": [
    "---"
   ]
  },
  {
   "cell_type": "markdown",
   "metadata": {},
   "source": [
    "# Neuro Data Analysis in Python: Problem Set 1\n",
    "\n",
    "This is the first problem set. It has 7 problems, worth a total of 60 points. It is due before class (i.e. by 10:59 AM) on 9/18/2020. For late policy please see [the syllabus](https://github.com/alexhuth/ndap-fa2020/blob/master/README.md#late-homework--extension-policy). Partial credit will be awarded for partially correct solutions. Three of the seven problems include bonus exercises worth 1 point each, so the maximum score on this problem set is 63/60.\n",
    "\n",
    "## How to use this notebook\n",
    "\n",
    "For problem 1, fix the code errors in each cell. For problems 2-7 you need to write code to complete a function. Wherever it says `### YOUR CODE HERE ###`, fill that in with your code. Please run your code to verify that it works.\n",
    "\n",
    "You might notice that you are unable to edit the text in some cells. Please ignore those cells (do not delete them!), they are important for grading.\n",
    "\n",
    "## Homework submission\n",
    "\n",
    "When you've finished, rename the notebook file to `ndap-problem_set_1-YOUREID.ipynb`. For example, if your EID is `ab12345`, you should call it `ndap-problem_set_1-ab12345.ipynb`. Then upload your completed (and renamed) notebook to canvas. **You must upload your completed problem set by 10:59 AM on 9/18/2020 to get full credit.**"
   ]
  },
  {
   "cell_type": "markdown",
   "metadata": {},
   "source": [
    "# Problem 1. (10 points, 1 point each)\n",
    "Fix the error in each piece of code, and run the code to make sure it outputs the correct thing. Pay attention to what the comment says the code should do (anything after a `#` is a comment and is not executed as code)."
   ]
  },
  {
   "cell_type": "code",
   "execution_count": null,
   "metadata": {},
   "outputs": [],
   "source": [
    "def get_element():\n",
    "    my_list = list(range(42))\n",
    "    \n",
    "    # get the 4th element of this list\n",
    "\n",
    "    my_list(3)\n",
    "\n",
    "get_element()"
   ]
  },
  {
   "cell_type": "code",
   "execution_count": null,
   "metadata": {
    "deletable": false,
    "editable": false,
    "nbgrader": {
     "cell_type": "code",
     "checksum": "a619c2d377ef8faab3553c598cd29783",
     "grade": true,
     "grade_id": "cell-22b7fc2c14b778d6",
     "locked": true,
     "points": 1,
     "schema_version": 3,
     "solution": false,
     "task": false
    }
   },
   "outputs": [],
   "source": [
    "# This cell contains hidden tests for grading, please ignore\n"
   ]
  },
  {
   "cell_type": "code",
   "execution_count": null,
   "metadata": {},
   "outputs": [],
   "source": [
    "def get_length():\n",
    "    my_list = list(range(42))\n",
    "    \n",
    "    #find the length of this list\n",
    "\n",
    "    return length(my_list)\n",
    "\n",
    "get_length()"
   ]
  },
  {
   "cell_type": "code",
   "execution_count": null,
   "metadata": {
    "deletable": false,
    "editable": false,
    "nbgrader": {
     "cell_type": "code",
     "checksum": "781828404d8b00c8248e684ce2e93513",
     "grade": true,
     "grade_id": "cell-26d59de0b93c6106",
     "locked": true,
     "points": 1,
     "schema_version": 3,
     "solution": false,
     "task": false
    }
   },
   "outputs": [],
   "source": [
    "# This cell contains hidden tests for grading, please ignore"
   ]
  },
  {
   "cell_type": "code",
   "execution_count": null,
   "metadata": {},
   "outputs": [],
   "source": [
    "def print_square():\n",
    "    my_list = list(range(42))\n",
    "    # print the square of each number\n",
    "    for n in my_list:\n",
    "        print(n * 2)\n",
    "        \n",
    "print_square()"
   ]
  },
  {
   "cell_type": "code",
   "execution_count": null,
   "metadata": {},
   "outputs": [],
   "source": [
    "def print_plus_one():\n",
    "    my_list = list(range(42))\n",
    "\n",
    "    # print each number plus one\n",
    "    for n in mylist:\n",
    "        print(n + 1)\n",
    "\n",
    "print_plus_one()"
   ]
  },
  {
   "cell_type": "code",
   "execution_count": null,
   "metadata": {},
   "outputs": [],
   "source": [
    "def sum_nums():\n",
    "    my_list = list(range(42))\n",
    "\n",
    "    # sum up all the numbers in the list\n",
    "\n",
    "    for n in my_list:\n",
    "        total = 0\n",
    "        total += n\n",
    "    return total\n",
    "\n",
    "sum_nums()"
   ]
  },
  {
   "cell_type": "code",
   "execution_count": null,
   "metadata": {
    "deletable": false,
    "editable": false,
    "nbgrader": {
     "cell_type": "code",
     "checksum": "6b81399a580afd93d170136fa46b9958",
     "grade": true,
     "grade_id": "cell-412587379657848c",
     "locked": true,
     "points": 1,
     "schema_version": 3,
     "solution": false,
     "task": false
    }
   },
   "outputs": [],
   "source": [
    "# This cell contains hidden tests for grading, please ignore"
   ]
  },
  {
   "cell_type": "code",
   "execution_count": null,
   "metadata": {},
   "outputs": [],
   "source": [
    "def last_elem():\n",
    "    my_list = list(range(42))\n",
    "\n",
    "    # get the last element of the list\n",
    "\n",
    "    return my_list[42]\n",
    "\n",
    "last_elem()"
   ]
  },
  {
   "cell_type": "code",
   "execution_count": null,
   "metadata": {
    "deletable": false,
    "editable": false,
    "nbgrader": {
     "cell_type": "code",
     "checksum": "bf72623de4acffce550a4d1368c714ae",
     "grade": true,
     "grade_id": "cell-a85ac3234c3b8487",
     "locked": true,
     "points": 1,
     "schema_version": 3,
     "solution": false,
     "task": false
    }
   },
   "outputs": [],
   "source": [
    "# This cell contains hidden tests for grading, please ignore"
   ]
  },
  {
   "cell_type": "code",
   "execution_count": null,
   "metadata": {},
   "outputs": [],
   "source": [
    "def print_plus_one_2():\n",
    "    my_list = list(range(42))\n",
    "\n",
    "    # print each number plus one\n",
    "    for n in my_list\n",
    "        print(n + 1)\n",
    "\n",
    "print_plus_one_2()"
   ]
  },
  {
   "cell_type": "code",
   "execution_count": null,
   "metadata": {},
   "outputs": [],
   "source": [
    "def print_val_higher():\n",
    "    # print the number that is 1 higher than val\n",
    "    val = 7\n",
    "    print(val) + 1\n",
    "print_val_higher()"
   ]
  },
  {
   "cell_type": "code",
   "execution_count": null,
   "metadata": {},
   "outputs": [],
   "source": [
    "def get_dict_val():\n",
    "    my_dict = dict(key=1, other_key=2)\n",
    "\n",
    "    # get the value for the key \"key\" in my_dict\n",
    "\n",
    "    return my_dict(key)\n",
    "\n",
    "get_dict_val()"
   ]
  },
  {
   "cell_type": "code",
   "execution_count": null,
   "metadata": {
    "deletable": false,
    "editable": false,
    "nbgrader": {
     "cell_type": "code",
     "checksum": "8db589c782c3ea4a10efaeea29f3d805",
     "grade": true,
     "grade_id": "cell-7c35e77211ee6fba",
     "locked": true,
     "points": 1,
     "schema_version": 3,
     "solution": false,
     "task": false
    }
   },
   "outputs": [],
   "source": [
    "# This cell contains hidden tests for grading, please ignore"
   ]
  },
  {
   "cell_type": "code",
   "execution_count": null,
   "metadata": {},
   "outputs": [],
   "source": [
    "def append_val():\n",
    "    my_list = list(range(5))\n",
    "\n",
    "    # append 6 to the end of my_list\n",
    "    my_list += 6\n",
    "    return my_list\n",
    "append_val()"
   ]
  },
  {
   "cell_type": "code",
   "execution_count": null,
   "metadata": {
    "deletable": false,
    "editable": false,
    "nbgrader": {
     "cell_type": "code",
     "checksum": "1a9dccac514ef96d1f86fb38bb51cd96",
     "grade": true,
     "grade_id": "cell-2d10ae8a540eeccb",
     "locked": true,
     "points": 1,
     "schema_version": 3,
     "solution": false,
     "task": false
    }
   },
   "outputs": [],
   "source": [
    "# This cell contains hidden tests for grading, please ignore"
   ]
  },
  {
   "cell_type": "markdown",
   "metadata": {},
   "source": [
    "# Problem 2. (10 points)\n",
    "In lecture 4 we talked about how to load a set of video labels from a text file. Each line of the file contains the index of a video clip, the name of the video gif filename (you don't have these actual files, but don't worry about it), and then a list of labels. We loaded the labels into a `list` of `dict`s. Each element in the `list` is a `dict` that contains the information about one video clip (the `index`, the `gif_file`, and the list of `labels`).\n",
    "\n",
    "Now, suppose that you are doing an analysis where you need to be able to find all the indices that correspond to each label. To do this, you need to re-arrange the data.\n",
    "\n",
    "Write a function `find_indices_for_labels` that creates a `dict` where each key is a label and the value is the list of indices for clips that contained that label.\n",
    "\n",
    "For example, the resulting `dict` should have the key `\"gift.n.01\"` with the value `[17,18,19,20]`.\n",
    "\n",
    "**Bonus:** +1 point if you can write this function in one line of code using only the functions/types that you have learned about. (I am not 100% certain this is possible, but it might be interesting.)"
   ]
  },
  {
   "cell_type": "code",
   "execution_count": null,
   "metadata": {},
   "outputs": [],
   "source": [
    "def parse_labels(filename):\n",
    "    \"\"\"Load labels from the file specified in filename.\n",
    "    \n",
    "    Assumes that each line of the file is whitespace-delimited, and has this\n",
    "    structure:\n",
    "      index gif_file label label label label ...\n",
    "    with an arbitrary number of labels per line.\n",
    "\n",
    "    Returns a list of dictionaries, where each contains the keys \"index\",\n",
    "    \"labels\" (which returns a list of labels), and \"gif_file\".\n",
    "    \"\"\"\n",
    "    f = open(filename)\n",
    "\n",
    "    labels = [] # create an empty list\n",
    "    for line in f:\n",
    "        words = line.split() # split the line into words\n",
    "\n",
    "        line_dict = dict(index=int(words[0]), # create a dict from words\n",
    "                         gif_file=words[1],\n",
    "                         labels=words[2:])\n",
    "        \n",
    "        labels.append(line_dict) # append dict to the complete list\n",
    "    \n",
    "    return labels\n",
    "\n",
    "# load the labels\n",
    "labels = parse_labels(\"labels.txt\")\n",
    "print(len(labels))\n",
    "def find_indices_for_labels(labels):\n",
    "    ### YOUR CODE HERE ###\n",
    "  "
   ]
  },
  {
   "cell_type": "code",
   "execution_count": null,
   "metadata": {
    "deletable": false,
    "editable": false,
    "nbgrader": {
     "cell_type": "code",
     "checksum": "bbdfd91fd168d4da95c45b227da4a970",
     "grade": true,
     "grade_id": "cell-118030e69c83eb45",
     "locked": true,
     "points": 10,
     "schema_version": 3,
     "solution": false,
     "task": false
    }
   },
   "outputs": [],
   "source": [
    "# This cell contains hidden tests for grading, please ignore"
   ]
  },
  {
   "cell_type": "markdown",
   "metadata": {},
   "source": [
    "# Problem 3. (10 points)\n",
    "Now that you've finished re-arranging the list of labels into a dictionary, you realize that what you _actually_ need is indicator variables. For each label, create a list that has one element for every index (each list should be length 7200). The value of each element should be `True` if that index corresponds to a video clip that contains that label, and `False` otherwise. The output should be a dictionary where the keys are labels and the values are the indicator variable lists.\n",
    "\n",
    "For example, `output['gift.n.01']` should look like `[False, False, False, ...]` with only four `True`'s.\n",
    "\n",
    "You can start from either the list of dictionaries (created by `parse_labels`), or the dictionary of lists (created by `find_indices_for_labels`) (if you trust your own code, that is)."
   ]
  },
  {
   "cell_type": "code",
   "execution_count": null,
   "metadata": {},
   "outputs": [],
   "source": [
    "def make_label_indicators(rename_this_input):\n",
    "    ### YOUR CODE HERE ###"
   ]
  },
  {
   "cell_type": "markdown",
   "metadata": {},
   "source": [
    "# Problem 4. (10 points)\n",
    "One important tool for text analysis is the word frequency counter, in which we store the number of times each word is used in a text document. \n",
    "\n",
    "You are given the name of the text file (`filename`) and a list of words (`words`). Write a function `word_frequency_counter` that outputs a list of numbers corresponding to the frequency of the words in order.\n",
    "For example, if `words` = ['building', 'rose'] and 'building' is referenced twice and 'rose' once, your function should return [2, 1] as the output.\n",
    "\n",
    "Use your word frequency counter to count how many times the words \"of\" and \"kid\" appear in the document `text_file.txt`.\n",
    "\n",
    "*Note:* you may only use functions and data structures that we've spoken about in class: `dict`, `list`, `for`-loops, etc. in solving this problem."
   ]
  },
  {
   "cell_type": "code",
   "execution_count": null,
   "metadata": {},
   "outputs": [],
   "source": [
    "def word_frequency_counter(filename, words):\n",
    "    ### YOUR CODE HERE ###"
   ]
  },
  {
   "cell_type": "code",
   "execution_count": null,
   "metadata": {
    "deletable": false,
    "editable": false,
    "nbgrader": {
     "cell_type": "code",
     "checksum": "b0b9ff01f3f778378f707b9a17e2c6b7",
     "grade": true,
     "grade_id": "cell-3d1b2e3a14d44246",
     "locked": true,
     "points": 10,
     "schema_version": 3,
     "solution": false,
     "task": false
    }
   },
   "outputs": [],
   "source": [
    "# test:\n",
    "counts = word_frequency_counter(\"text_file.txt\", [\"of\", \"kid\"])\n",
    "print(counts)\n",
    "# should produce: [44, 5]"
   ]
  },
  {
   "cell_type": "markdown",
   "metadata": {},
   "source": [
    "# Problem 5. (5 points)\n",
    "Now imagine that you are helping the professor with keeping record of the students in the class. We have 2 separate lists, one with the names of the students and the other having their respective UIDs. It would be more convenient to combine these two lists into a dictionary.\n",
    "\n",
    "Write a function `student_records_dict` that takes in the `names` and `UIDs` and gives a `dict` of name-UID pair. For example, if `names` = ['Adora', 'Bow'] and `UIDs` = ['as324345', 'bl345476'], then the function should return {'Adora' : 'as324345', 'Bow' : 'bl345476'}\n",
    "\n",
    "**Bonus:** +1 bonus point if you can do this in one line of code."
   ]
  },
  {
   "cell_type": "code",
   "execution_count": null,
   "metadata": {},
   "outputs": [],
   "source": [
    "#You can assume names and UIDs to be of the same length\n",
    "def student_records_dict(names, UIDs):\n",
    "    ### YOUR CODE HERE ###"
   ]
  },
  {
   "cell_type": "code",
   "execution_count": null,
   "metadata": {
    "deletable": false,
    "editable": false,
    "nbgrader": {
     "cell_type": "code",
     "checksum": "f59601cd9267119cb9fdd3bacbebe351",
     "grade": true,
     "grade_id": "cell-4c00e41bab161e5e",
     "locked": true,
     "points": 5,
     "schema_version": 3,
     "solution": false,
     "task": false
    }
   },
   "outputs": [],
   "source": [
    "# test:\n",
    "test_names = ['alex', 'bill', 'manu']\n",
    "test_uids = ['al239048', 'bi109238', 'ma190238']\n",
    "print(student_records_dict(test_names, test_uids))\n",
    "# should produce: {'alex': 'al239048', 'bill': 'bi109238', 'manu': 'ma190238'}"
   ]
  },
  {
   "cell_type": "markdown",
   "metadata": {},
   "source": [
    "# Problem 6. (5 points)\n",
    "\n",
    "The [dot product](https://en.wikipedia.org/wiki/Dot_product) between two vectors (lists of numbers) is the sum of the products of each corresponding pair. E.g. the dot product of `[1,2,3]` and `[5, 10, 15]` is `1*5 + 2*10 + 3*15`.\n",
    "\n",
    "Write a function `dot_product(a,b)` that computes the dot product between two lists of numbers `a` and `b`. You may only use functions and data structures that we've spoken about in class (e.g. `list` and `zip`). No numpy!\n",
    "\n",
    "**Bonus:** +1 bonus point if your function checks that (1) `a` and `b` are the same size, and (2) checks that all the elements of `a` and `b` are numbers that can be multiplied, and `raise`s understandable errors if not."
   ]
  },
  {
   "cell_type": "code",
   "execution_count": null,
   "metadata": {},
   "outputs": [],
   "source": [
    "def dot_product(a,b):\n",
    "    ### YOUR CODE HERE ###"
   ]
  },
  {
   "cell_type": "code",
   "execution_count": null,
   "metadata": {
    "deletable": false,
    "editable": false,
    "nbgrader": {
     "cell_type": "code",
     "checksum": "b35b8f5579106d9452f236b0a33cddf7",
     "grade": true,
     "grade_id": "cell-c0c347033b99ecd9",
     "locked": true,
     "points": 5,
     "schema_version": 3,
     "solution": false,
     "task": false
    }
   },
   "outputs": [],
   "source": [
    "# test:\n",
    "test_a = list(range(100))\n",
    "test_b = test_a[::-1]\n",
    "print(dot_product(test_a, test_b))\n",
    "# should produce: 161700"
   ]
  },
  {
   "cell_type": "markdown",
   "metadata": {},
   "source": [
    "# Problem 7. (10 points)\n",
    "\n",
    "[Matrix multiplication](https://en.wikipedia.org/wiki/Matrix_multiplication) is an operation in linear algebra where two matrices are multiplied together to make a new matrix. If you are multiplying `A * B`, where `A` is $n$ by $m$ (i.e. has $n$ rows and $m$ columns) and `B` is $m$ by $p$, then the product `C = A * B` is an $n$ by $p$ matrix. Each element of `C` is the dot product between one row of `A` and one column of `B`. For example, `C[i][j]` (the element in row $i$ and column $j$) is the dot product between row $i$ of `A` and column $j$ of `B`.\n",
    "\n",
    "Write a function that does matrix multiplication. Feel free to use your dot product function from problem 6 if that helps. You may only use things we've spoken about in class: `list`s, `zip`, etc. No numpy!"
   ]
  },
  {
   "cell_type": "code",
   "execution_count": null,
   "metadata": {},
   "outputs": [],
   "source": [
    "def matrix_multiply(A, B):\n",
    "    ### YOUR CODE HERE ###"
   ]
  },
  {
   "cell_type": "code",
   "execution_count": null,
   "metadata": {
    "deletable": false,
    "editable": false,
    "nbgrader": {
     "cell_type": "code",
     "checksum": "197e42a65d24b9d2bf3163aa11ab49bd",
     "grade": true,
     "grade_id": "cell-3d31f084c4c58dd8",
     "locked": true,
     "points": 10,
     "schema_version": 3,
     "solution": false,
     "task": false
    }
   },
   "outputs": [],
   "source": [
    "# test:\n",
    "test_A = [[1, 2, 3], [4, 5, 6]] # a 2x3 matrix\n",
    "test_B = [[1, 2], [3, 4], [5, 6]] # a 3x2 matrix\n",
    "print(matrix_multiply(test_A, test_B))\n",
    "# should produce: [[22, 28], [49, 64]]\n"
   ]
  }
 ],
 "metadata": {
  "kernelspec": {
   "display_name": "Python 3",
   "language": "python",
   "name": "python3"
  },
  "language_info": {
   "codemirror_mode": {
    "name": "ipython",
    "version": 3
   },
   "file_extension": ".py",
   "mimetype": "text/x-python",
   "name": "python",
   "nbconvert_exporter": "python",
   "pygments_lexer": "ipython3",
   "version": "3.6.8"
  }
 },
 "nbformat": 4,
 "nbformat_minor": 2
}
