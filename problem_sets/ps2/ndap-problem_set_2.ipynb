{
 "cells": [
  {
   "cell_type": "markdown",
   "metadata": {},
   "source": [
    "# Neuro Data Analysis in Python: Problem Set 2\n",
    "\n",
    "This is the second problem set. It has 7 problems, worth a total of 75 points. It is due before class (i.e. by 10:59 AM) on 10/2/2020. For late policy please see [the syllabus](https://github.com/alexhuth/ndap-fa2020/blob/master/README.md#late-homework--extension-policy). Partial credit will be awarded for partially correct solutions.\n",
    "\n",
    "## How to use this notebook\n",
    "\n",
    "For problems 1-7 you need to write code to complete a function. Wherever it says `### YOUR CODE HERE ###`, fill that in with your code. Please run your code to verify that it works.\n",
    "\n",
    "## Homework submission\n",
    "\n",
    "When you've finished, rename the notebook file to `ndap-problem_set_2-YOUREID.ipynb`. For example, if your EID is `ab12345`, you should call it `ndap-problem_set_2-ab12345.ipynb`. Then upload your completed problem set to canvas."
   ]
  },
  {
   "cell_type": "code",
   "execution_count": 2,
   "metadata": {},
   "outputs": [],
   "source": [
    "# RUN THIS CELL TO IMPORT NUMPY\n",
    "# YOU ONLY NEED TO DO THIS ONCE\n",
    "# BUT IF YOU DO IT MORE THAN ONCE IT'S NOT A BIG DEAL DON'T WORRY\n",
    "import numpy as np"
   ]
  },
  {
   "cell_type": "markdown",
   "metadata": {},
   "source": [
    "# Problem 1. (10 points, 1 point each)\n",
    "\n",
    "Solve each indexing problem, and run your code to make sure it's outputting the right thing. Pay close attention to what the comment says the code should do.\n",
    "\n",
    "_For example, if the code looks like this:_\n",
    "<pre>\n",
    "my_arr = np.arange(5) + 10*np.arange(5)[:,np.newaxis]\n",
    "# get the element from row 4, column 1, which should be equal to 41\n",
    "my_arr[#SOMETHING#]\n",
    "</pre>\n",
    "\n",
    "_You should change it to:_\n",
    "\n",
    "<pre>\n",
    "my_arr[4,1]\n",
    "</pre>"
   ]
  },
  {
   "cell_type": "code",
   "execution_count": 4,
   "metadata": {},
   "outputs": [
    {
     "name": "stdout",
     "output_type": "stream",
     "text": [
      "[[ 0  1  2  3  4]\n",
      " [10 11 12 13 14]\n",
      " [20 21 22 23 24]\n",
      " [30 31 32 33 34]\n",
      " [40 41 42 43 44]]\n"
     ]
    }
   ],
   "source": [
    "# run this cell first to create my_arr\n",
    "my_arr = np.arange(5) + 10*np.arange(5)[:,np.newaxis]\n",
    "print(my_arr)"
   ]
  },
  {
   "cell_type": "code",
   "execution_count": null,
   "metadata": {},
   "outputs": [],
   "source": [
    "# get the second-to-last column of my_arr (should be 3, 13, 23, 33, 43)\n",
    "my_arr[#SOMETHING#]"
   ]
  },
  {
   "cell_type": "code",
   "execution_count": null,
   "metadata": {},
   "outputs": [],
   "source": [
    "# get rows 0 and 2 of my_arr, creating a 2x5 matrix ([0, 1, ...], [20, 21, ...])\n",
    "my_arr[#SOMETHING#]"
   ]
  },
  {
   "cell_type": "code",
   "execution_count": null,
   "metadata": {},
   "outputs": [],
   "source": [
    "# get every other column in my_arr, creating a 5x3 matrix ([0, 2, 4], [10, 12, 14], ...)\n",
    "my_arr[#SOMETHING#]"
   ]
  },
  {
   "cell_type": "code",
   "execution_count": null,
   "metadata": {},
   "outputs": [],
   "source": [
    "# compute the sum of each COLUMN of my_arr, should be (100, 105, 110, 115, 120)\n",
    "my_arr.#SOMETHING#"
   ]
  },
  {
   "cell_type": "code",
   "execution_count": null,
   "metadata": {},
   "outputs": [],
   "source": [
    "# compute the sum of each ROW of my_arr, should be (10, 60, 110, 160, 210)\n",
    "my_arr.#SOMETHING#"
   ]
  },
  {
   "cell_type": "code",
   "execution_count": null,
   "metadata": {},
   "outputs": [],
   "source": [
    "# find the largest element in each ROW of my_arr, should be (4, 14, 24, 34, 44)\n",
    "my_arr.#SOMETHING#"
   ]
  },
  {
   "cell_type": "code",
   "execution_count": null,
   "metadata": {},
   "outputs": [],
   "source": [
    "# find the index of the smallest element by value in COLUMN 2 of my_arr, should be 0\n",
    "my_arr.#SOMETHING#"
   ]
  },
  {
   "cell_type": "code",
   "execution_count": null,
   "metadata": {},
   "outputs": [],
   "source": [
    "# find out whether each column in my_arr contains the number 13, should be [False, False, False, True, False]\n",
    "# (this one is a little tricky. you need to do two operations!)\n",
    "(my_arr #SOMETHING#).#SOMETHING ELSE#"
   ]
  },
  {
   "cell_type": "code",
   "execution_count": null,
   "metadata": {},
   "outputs": [],
   "source": [
    "# find the biggest number in my_arr that is smaller than 27, should be 24\n",
    "my_arr[#SOMETHING#].#SOMETHING ELSE#"
   ]
  },
  {
   "cell_type": "code",
   "execution_count": null,
   "metadata": {},
   "outputs": [],
   "source": [
    "# find the product of all the numbers in my_arr, should be zero\n",
    "my_arr.#SOMETHING#"
   ]
  },
  {
   "cell_type": "markdown",
   "metadata": {},
   "source": [
    "# Problem 2. (10 points)"
   ]
  },
  {
   "cell_type": "markdown",
   "metadata": {},
   "source": [
    "Write a function called `checkerboard` that, given a number `N`, returns an N x N array with a checkerboard pattern. Use slicing to construct your checkerboard.\n",
    "\n",
    "Eg. for `N = 3`, return \n",
    "<pre>\n",
    "array([[0, 1, 0],\n",
    "       [1, 0, 1],\n",
    "       [0, 1, 0]])\n",
    "</pre>\n",
    "\n",
    "This function needs to work for any value of `N`."
   ]
  },
  {
   "cell_type": "code",
   "execution_count": null,
   "metadata": {},
   "outputs": [],
   "source": [
    "def checkerboard(N):\n",
    "    checkers = np.zeros((N,N))\n",
    "    ### YOUR CODE HERE ###\n",
    "    return checkers"
   ]
  },
  {
   "cell_type": "markdown",
   "metadata": {},
   "source": [
    "# Problem 3. (10 points)\n",
    "Write a function that, given a 1D array `Z` and 2 numbers `x` and `y` (with `x <= y`), subtract 5 from every element of `Z` which is greater than `x` and less than `y`. For example, given `Z = array([4, 5, 9, 1, 5, 7])`, `x = 2`, and `y = 6`, the function should return `array([-1, 0, 9, 1, 0, 7])`. Do this _without_ modifying the original `Z`!"
   ]
  },
  {
   "cell_type": "code",
   "execution_count": null,
   "metadata": {},
   "outputs": [],
   "source": [
    "def subtract_from_between(Z, x, y):\n",
    "    ### YOUR CODE HERE ###"
   ]
  },
  {
   "cell_type": "code",
   "execution_count": null,
   "metadata": {},
   "outputs": [],
   "source": [
    "# to test:\n",
    "my_Z = np.array([4,5,9,1,5,7])\n",
    "new_Z = subtract_from_between(my_Z, 2, 6)\n",
    "print(new_Z)\n",
    "# should output: array([-1, 0, 9, 1, 0, 7])\n",
    "print(my_Z)\n",
    "# should output: array([4, 5, 9, 1, 5, 7])"
   ]
  },
  {
   "cell_type": "markdown",
   "metadata": {},
   "source": [
    "# Problem 4. (10 points)\n",
    "Write a function that, given a 1D array, negates its minimum value. (You can assume that there is only one minimum value). For example, given `array([5, 6, 7, 8, 1, 5])`, return `array([5, 6, 7, 8, -1, 5])`. Do this _without_ modifying the input array."
   ]
  },
  {
   "cell_type": "code",
   "execution_count": null,
   "metadata": {},
   "outputs": [],
   "source": [
    "def negate_minimum(arr):\n",
    "    ### YOUR CODE HERE ###"
   ]
  },
  {
   "cell_type": "code",
   "execution_count": null,
   "metadata": {},
   "outputs": [],
   "source": [
    "# to test:\n",
    "my_arr = np.array([5,6,7,8,1,5])\n",
    "print(negate_minimum(my_arr))\n",
    "# should output: array([5, 6, 7, 8, -1, 5])\n",
    "print(my_arr)\n",
    "# should output: array([5, 6, 7, 8, 1, 5])"
   ]
  },
  {
   "cell_type": "markdown",
   "metadata": {},
   "source": [
    "# Problem 5. (10 points)\n",
    "Write a function that, given a 1D array, returns another array with 2 zeros between each of its values. For example, given `array([5, 6, 7, 8])`, return `array([5, 0, 0, 6, 0, 0, 7, 0, 0, 8])`. This function should work for any length of input array."
   ]
  },
  {
   "cell_type": "code",
   "execution_count": null,
   "metadata": {},
   "outputs": [],
   "source": [
    "def zero_fill(arr):\n",
    "    ### YOUR CODE HERE ###"
   ]
  },
  {
   "cell_type": "code",
   "execution_count": null,
   "metadata": {},
   "outputs": [],
   "source": [
    "# to test:\n",
    "zero_fill(np.array([5, 6, 7, 8]))\n",
    "# should output: array([5, 0, 0, 6, 0, 0, 7, 0, 0, 8])"
   ]
  },
  {
   "cell_type": "markdown",
   "metadata": {},
   "source": [
    "# Problem 6. (10 points)\n",
    "\n",
    "## part (a) (5 points)\n",
    "Write a function that constructs an array with `N` rows and `M` columns (i.e. an N by M matrix) where all the values in each row are equal to that row's index. For example, with `N=4` and `M=3`, you would want to create this matrix:\n",
    "<pre>\n",
    "0 0 0\n",
    "1 1 1\n",
    "2 2 2\n",
    "3 3 3\n",
    "</pre>\n",
    "(And you're not allowed to use the `np.meshgrid` function or `np.mgrid` object, even though they definitely solve this problem! I mention them here because I want you to be aware that those functions exist should you ever need to solve this problem again.)"
   ]
  },
  {
   "cell_type": "code",
   "execution_count": null,
   "metadata": {},
   "outputs": [],
   "source": [
    "def row_index_matrix(N, M):\n",
    "    ### YOUR CODE HERE ###"
   ]
  },
  {
   "cell_type": "code",
   "execution_count": null,
   "metadata": {},
   "outputs": [],
   "source": [
    "# to test:\n",
    "row_index_matrix(4,3)\n",
    "# should output the matrix [[0,0,0],[1,1,1],[2,2,2],[3,3,3]]"
   ]
  },
  {
   "cell_type": "markdown",
   "metadata": {},
   "source": [
    "## part (b) (5 points)\n",
    "Now write a function that constructs an array with `N` rows and `M` columns (i.e. an N by M matrix) where all the values in each _column_ are equal to that _column_'s index. For example, with `N=4` and `M=3`, you would want to create this matrix:\n",
    "<pre>\n",
    "0 1 2\n",
    "0 1 2\n",
    "0 1 2\n",
    "0 1 2\n",
    "</pre>"
   ]
  },
  {
   "cell_type": "code",
   "execution_count": null,
   "metadata": {},
   "outputs": [],
   "source": [
    "def col_index_matrix(N, M):\n",
    "    ### YOUR CODE HERE ###"
   ]
  },
  {
   "cell_type": "code",
   "execution_count": null,
   "metadata": {},
   "outputs": [],
   "source": [
    "# to test:\n",
    "col_index_matrix(4,3)\n",
    "# should output the matrix [[0,1,2],[0,1,2],[0,1,2],[0,1,2]]"
   ]
  },
  {
   "cell_type": "markdown",
   "metadata": {},
   "source": [
    "# Problem 7. (15 points)\n",
    "Suppose we have an image that we want to use as a stimulus in an experiment. This image is 15 x 15 pixels (what is this, a stimulus for ants? well maybe...). But, like a proper visual neuroscientist, you want to apply a circular mask to the image first. Let's suppose we want the mask to look like this (or maybe similar to this but with True and False instead of 1 and 0):\n",
    "\n",
    "<pre>\n",
    "0, 0, 0, 0, 0, 0, 1, 1, 1, 0, 0, 0, 0, 0, 0\n",
    "0, 0, 0, 0, 1, 1, 1, 1, 1, 1, 1, 0, 0, 0, 0\n",
    "0, 0, 1, 1, 1, 1, 1, 1, 1, 1, 1, 1, 1, 0, 0\n",
    "0, 0, 1, 1, 1, 1, 1, 1, 1, 1, 1, 1, 1, 0, 0\n",
    "0, 1, 1, 1, 1, 1, 1, 1, 1, 1, 1, 1, 1, 1, 0\n",
    "0, 1, 1, 1, 1, 1, 1, 1, 1, 1, 1, 1, 1, 1, 0\n",
    "1, 1, 1, 1, 1, 1, 1, 1, 1, 1, 1, 1, 1, 1, 1\n",
    "1, 1, 1, 1, 1, 1, 1, 1, 1, 1, 1, 1, 1, 1, 1\n",
    "1, 1, 1, 1, 1, 1, 1, 1, 1, 1, 1, 1, 1, 1, 1\n",
    "0, 1, 1, 1, 1, 1, 1, 1, 1, 1, 1, 1, 1, 1, 0\n",
    "0, 1, 1, 1, 1, 1, 1, 1, 1, 1, 1, 1, 1, 1, 0\n",
    "0, 0, 1, 1, 1, 1, 1, 1, 1, 1, 1, 1, 1, 0, 0\n",
    "0, 0, 1, 1, 1, 1, 1, 1, 1, 1, 1, 1, 1, 0, 0\n",
    "0, 0, 0, 0, 1, 1, 1, 1, 1, 1, 1, 0, 0, 0, 0\n",
    "0, 0, 0, 0, 0, 0, 1, 1, 1, 0, 0, 0, 0, 0, 0\n",
    "</pre>\n",
    "\n",
    "One way to generate this type of circular mask is to compute the euclidean distance from each point in the image to the center. This distance matrix can then be thresholded to get the mask we see above.\n",
    "\n",
    "Fortunately, you have all the tools you'll need to do this!\n",
    "\n",
    "Using your `row_index_matrix` and `col_index_matrix` functions from problem 6, create two 15 x 15 matrices, one with row indices, and one with column indices."
   ]
  },
  {
   "cell_type": "code",
   "execution_count": null,
   "metadata": {},
   "outputs": [],
   "source": [
    "mask_rows = row_index_matrix(15,15)\n",
    "mask_cols = col_index_matrix(15,15)"
   ]
  },
  {
   "cell_type": "markdown",
   "metadata": {},
   "source": [
    "The formula for euclidean distance is the same as the hypotenuse of a triangle. If we have two 2D points, `x=(x_0, x_1)` and `y=(y_0,y_1)`, then the euclidean distance between them is `np.sqrt((x_0 - y_0)**2 + (x_1 - y_1)**2)`. \n",
    "\n",
    "Think of the `mask_rows` and `mask_cols` matrices as containing the y-axis and x-axis locations of each point in a 15 x 15 grid. In order to create the mask you need to compute the euclidean distance between every point in your 15 x 15 grid and a point at the very center (row 7, column 7).\n",
    "\n",
    "First compute the number of rows that separates each point from the center. This should be a new 15 x 15 matrix where each row has all the same values, and each column looks like (-7, -6, -5, -4, -3, -2, -1, 0, 1, 2, 3, 4, 5, 6, 7)."
   ]
  },
  {
   "cell_type": "code",
   "execution_count": null,
   "metadata": {},
   "outputs": [],
   "source": [
    "row_separation = ### YOUR CODE HERE ###"
   ]
  },
  {
   "cell_type": "markdown",
   "metadata": {},
   "source": [
    "Then compute the number of columns that separates each point from the center. This should also be a 15 x 15 matrix, but where each column has all the same values, and each row looks like (-7, -6, ..., 6, 7)."
   ]
  },
  {
   "cell_type": "code",
   "execution_count": null,
   "metadata": {},
   "outputs": [],
   "source": [
    "col_separation = ### YOUR CODE HERE ###"
   ]
  },
  {
   "cell_type": "markdown",
   "metadata": {},
   "source": [
    "Now you have `(x_0 - y_0)` (this is `row_separation`) and `(x_1 - y_1)` (`col_separation`) for each point in the grid (think of `x_0` and `x_1` as the row and column of each point, and `y_0 = y_1 = 7` is the location of the central point). Use these two matrices to compute the euclidean distance from each point to the center. This should give you a matrix that looks something like this (but probably with more decimal places):\n",
    "<pre>\n",
    "[[9.9 9.2 8.6 8.1 7.6 7.3 7.1 7.  7.1 7.3 7.6 8.1 8.6 9.2 9.9]\n",
    " [9.2 8.5 7.8 7.2 6.7 6.3 6.1 6.  6.1 6.3 6.7 7.2 7.8 8.5 9.2]\n",
    " [8.6 7.8 7.1 6.4 5.8 5.4 5.1 5.  5.1 5.4 5.8 6.4 7.1 7.8 8.6]\n",
    " [8.1 7.2 6.4 5.7 5.  4.5 4.1 4.  4.1 4.5 5.  5.7 6.4 7.2 8.1]\n",
    " [7.6 6.7 5.8 5.  4.2 3.6 3.2 3.  3.2 3.6 4.2 5.  5.8 6.7 7.6]\n",
    " [7.3 6.3 5.4 4.5 3.6 2.8 2.2 2.  2.2 2.8 3.6 4.5 5.4 6.3 7.3]\n",
    " [7.1 6.1 5.1 4.1 3.2 2.2 1.4 1.  1.4 2.2 3.2 4.1 5.1 6.1 7.1]\n",
    " [7.  6.  5.  4.  3.  2.  1.  0.  1.  2.  3.  4.  5.  6.  7. ]\n",
    " [7.1 6.1 5.1 4.1 3.2 2.2 1.4 1.  1.4 2.2 3.2 4.1 5.1 6.1 7.1]\n",
    " [7.3 6.3 5.4 4.5 3.6 2.8 2.2 2.  2.2 2.8 3.6 4.5 5.4 6.3 7.3]\n",
    " [7.6 6.7 5.8 5.  4.2 3.6 3.2 3.  3.2 3.6 4.2 5.  5.8 6.7 7.6]\n",
    " [8.1 7.2 6.4 5.7 5.  4.5 4.1 4.  4.1 4.5 5.  5.7 6.4 7.2 8.1]\n",
    " [8.6 7.8 7.1 6.4 5.8 5.4 5.1 5.  5.1 5.4 5.8 6.4 7.1 7.8 8.6]\n",
    " [9.2 8.5 7.8 7.2 6.7 6.3 6.1 6.  6.1 6.3 6.7 7.2 7.8 8.5 9.2]\n",
    " [9.9 9.2 8.6 8.1 7.6 7.3 7.1 7.  7.1 7.3 7.6 8.1 8.6 9.2 9.9]]\n",
    "</pre>"
   ]
  },
  {
   "cell_type": "code",
   "execution_count": null,
   "metadata": {},
   "outputs": [],
   "source": [
    "euclidean_dist = ### YOUR CODE HERE ###"
   ]
  },
  {
   "cell_type": "markdown",
   "metadata": {},
   "source": [
    "Finally you are ready to create the mask! Find all the points that have distance less than 7.1 to create a mask. To validate, check that your mask looks like the one above (although it's ok if it's True and False instead of 1 and 0), and that it sums to 161."
   ]
  },
  {
   "cell_type": "code",
   "execution_count": null,
   "metadata": {},
   "outputs": [],
   "source": [
    "mask = ### YOUR CODE HERE ###\n",
    "\n",
    "print(mask.sum()) # should print 161"
   ]
  },
  {
   "cell_type": "markdown",
   "metadata": {},
   "source": [
    "## _Bonus (2 points)_\n",
    "Write the solution to problem 7 in one line."
   ]
  },
  {
   "cell_type": "code",
   "execution_count": null,
   "metadata": {},
   "outputs": [],
   "source": [
    "mask = ### YOUR ONE LINE SOLUTION HERE ###"
   ]
  }
 ],
 "metadata": {
  "kernelspec": {
   "display_name": "Python 3",
   "language": "python",
   "name": "python3"
  },
  "language_info": {
   "codemirror_mode": {
    "name": "ipython",
    "version": 3
   },
   "file_extension": ".py",
   "mimetype": "text/x-python",
   "name": "python",
   "nbconvert_exporter": "python",
   "pygments_lexer": "ipython3",
   "version": "3.6.8"
  }
 },
 "nbformat": 4,
 "nbformat_minor": 2
}
