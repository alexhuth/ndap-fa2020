{
 "cells": [
  {
   "cell_type": "markdown",
   "metadata": {},
   "source": [
    "Before you turn this problem in, make sure everything runs as expected. First, **restart the kernel** (in the menubar, select Kernel$\\rightarrow$Restart) and then **run all cells** (in the menubar, select Cell$\\rightarrow$Run All).\n",
    "\n",
    "Make sure you fill in any place that says `YOUR CODE HERE` or \"YOUR ANSWER HERE\", as well as your name and collaborators below:"
   ]
  },
  {
   "cell_type": "code",
   "execution_count": null,
   "metadata": {},
   "outputs": [],
   "source": [
    "NAME = \"\"\n",
    "COLLABORATORS = \"\""
   ]
  },
  {
   "cell_type": "markdown",
   "metadata": {},
   "source": [
    "# Neuro Data Analysis in Python: Problem Set 5\n",
    "\n",
    "This is the fourth problem set. It has 2 problems, worth a total of 41 points. It is due before class (i.e. by 10:59 AM) on 11/20/2020. For late policy please see [the syllabus](https://github.com/alexhuth/ndap-fa2020/blob/master/README.md#late-homework--extension-policy). Partial credit will be awarded for partially correct solutions.\n",
    "\n",
    "\n",
    "## Homework submission\n",
    "\n",
    "When you've finished, rename the notebook file to `ndap-problem_set_5-YOUREID.ipynb`. For example, if your EID is `ab12345`, you should call it `ndap-problem_set_5-ab12345.ipynb`. Then upload your completed problem set to canvas."
   ]
  },
  {
   "cell_type": "code",
   "execution_count": null,
   "metadata": {},
   "outputs": [],
   "source": [
    "%matplotlib inline\n",
    "%config InlineBackend.figure_format = 'retina'\n",
    "\n",
    "import numpy as np\n",
    "import matplotlib.pyplot as plt\n",
    "from scipy import signal\n",
    "\n",
    "import IPython.display as ipd"
   ]
  },
  {
   "cell_type": "markdown",
   "metadata": {},
   "source": [
    "---\n",
    "# Problem 1. (12 pts)\n",
    "You're being given a timeseries (audio) dataset, and your goal in this problem is to analyze it to find what it actually contains."
   ]
  },
  {
   "cell_type": "code",
   "execution_count": null,
   "metadata": {},
   "outputs": [],
   "source": [
    "# Load the data\n",
    "data = np.load('ps5_dataset_1.npz')['signal']\n",
    "\n",
    "# The SAMPLING RATE for this data is 44100 Hz (or 44.1 kHz)\n",
    "# this is typical for audio data\n",
    "Fs = 44100"
   ]
  },
  {
   "cell_type": "code",
   "execution_count": null,
   "metadata": {},
   "outputs": [],
   "source": [
    "# evaluate this cell to create an audio object. hit the play button to hear the raw data\n",
    "# (this should not sound good)\n",
    "ipd.Audio(data, rate=Fs)"
   ]
  },
  {
   "cell_type": "markdown",
   "metadata": {},
   "source": [
    "## (a) Plot the power spectral density (2 pts)\n",
    "Plot the power spectral density of `data`. Set the sampling rate correctly in your call to the power spectral density function so that the x-axis has the correct range (from zero to the Nyquist frequency). (And remember that you can put a semicolon `;` at the end of a line in jupyter to make it not print the output from that line. This hides all the junk when you plot a power spectrum.)"
   ]
  },
  {
   "cell_type": "code",
   "execution_count": null,
   "metadata": {},
   "outputs": [],
   "source": [
    "### YOUR CODE HERE ###"
   ]
  },
  {
   "cell_type": "markdown",
   "metadata": {},
   "source": [
    "## (b) Plot the spectrogram (2 pts)\n",
    "Now plot the spectrogram of `data`. Set the sampling rate so that the y-axis is scaled correctly. Add labels for the x- and y-axes."
   ]
  },
  {
   "cell_type": "code",
   "execution_count": null,
   "metadata": {},
   "outputs": [],
   "source": [
    "### YOUR CODE HERE ###"
   ]
  },
  {
   "cell_type": "markdown",
   "metadata": {},
   "source": [
    "## (c) Filter the signal to remove the noise (8 pts)\n",
    "From looking at the PSD and spectrogram, you might conclude that `data` contains a lot of noise in the higher frequencies, but something that looks like signal in the low frequencies.\n",
    "\n",
    "Use `signal.firwin` to create a low-pass filter, and then use `np.convolve` to apply it to `data`. You'll need to select the cutoff frequency and number of taps (the length of the filter), and also set the sampling rate in your call to `firwin`. Then, play the resulting audio and see if you can hear what it says.\n",
    "\n",
    "Try a few different values for the cutoff frequency and the number of taps. Don't be shy to try large numbers of taps and see what happens."
   ]
  },
  {
   "cell_type": "code",
   "execution_count": null,
   "metadata": {},
   "outputs": [],
   "source": [
    "my_filter = ### YOUR CODE HERE ###\n",
    "\n",
    "filtered_data = ### YOUR CODE HERE ###\n",
    "\n",
    "ipd.Audio(filtered_data, rate=44100)"
   ]
  },
  {
   "cell_type": "markdown",
   "metadata": {},
   "source": [
    "So what does the audio say? Write the answer down here:"
   ]
  },
  {
   "cell_type": "code",
   "execution_count": null,
   "metadata": {},
   "outputs": [],
   "source": []
  },
  {
   "cell_type": "markdown",
   "metadata": {},
   "source": [
    "---\n",
    "# Problem 2. (29 pts)\n",
    "\n",
    "In this problem we'll be plotting and analyzing some EEG data."
   ]
  },
  {
   "cell_type": "code",
   "execution_count": null,
   "metadata": {},
   "outputs": [],
   "source": [
    "# first, load the data\n",
    "datafile = np.load(\"ps5_EEG_data.npz\")\n",
    "\n",
    "# what objects are inside this data file?\n",
    "print(datafile.files)\n",
    "\n",
    "# load the eeg_data\n",
    "# this dataset is an EEG recording with 8 channels and 101638 timepoints\n",
    "eeg_data = datafile[\"eeg_data\"]\n",
    "print(\"eeg_data shape:\", eeg_data.shape)\n",
    "\n",
    "# get the sampling rate (Fs) in Hz\n",
    "eeg_Fs = datafile[\"Fs\"]\n",
    "print(\"sampling rate:\", eeg_Fs)"
   ]
  },
  {
   "cell_type": "markdown",
   "metadata": {},
   "source": [
    "## (a) Plot some of the EEG data timeseries (4 pts)\n",
    "\n",
    "Make 4 plots of the EEG data timeseries:\n",
    "* One plot showing half a second of data (how many samples is this?)\n",
    "* One plot showing two seconds of data\n",
    "* One plot showing 10 seconds of data\n",
    "* One plot showing 100 seconds data\n",
    "\n",
    "You can start with just plotting one channel for each, but your finished plot should show all 8 channels on the same axis.\n",
    "\n",
    "For each plot you need to figure out how many samples to include. You know that the sampling rate (the variable `Fs` that we loaded from the datafile) is 128 Hz, or 128 samples per second.\n",
    "\n",
    "Please label _at least_ the x-axis of each plot.\n",
    "\n",
    "**Bonus (+2pts):** Make the x-axis ticks show units of seconds instead of samples."
   ]
  },
  {
   "cell_type": "code",
   "execution_count": null,
   "metadata": {},
   "outputs": [],
   "source": [
    "# plot half a second"
   ]
  },
  {
   "cell_type": "code",
   "execution_count": null,
   "metadata": {},
   "outputs": [],
   "source": [
    "# plot 2 seconds"
   ]
  },
  {
   "cell_type": "code",
   "execution_count": null,
   "metadata": {},
   "outputs": [],
   "source": [
    "# plot 10 seconds"
   ]
  },
  {
   "cell_type": "code",
   "execution_count": null,
   "metadata": {},
   "outputs": [],
   "source": [
    "# plot 1000 seconds"
   ]
  },
  {
   "cell_type": "markdown",
   "metadata": {},
   "source": [
    "## (b) Plot the power spectrum (psd) of one channel of the EEG data (6 pts)\n",
    "\n",
    "Use the function `plt.psd` to plot the power spectrum of one EEG channel. Set the sampling rate `Fs` correctly so that you get the correct units of frequency.\n",
    "\n",
    "Then plot the power spectra for all 8 EEG channels in the same axis."
   ]
  },
  {
   "cell_type": "code",
   "execution_count": null,
   "metadata": {},
   "outputs": [],
   "source": [
    "# plot one power spectrum"
   ]
  },
  {
   "cell_type": "code",
   "execution_count": null,
   "metadata": {},
   "outputs": [],
   "source": [
    "# plot the power spectra from each of the 8 channels on the same axis"
   ]
  },
  {
   "cell_type": "markdown",
   "metadata": {},
   "source": [
    "## (c) Plot a spectrogram of the EEG data (4 pts)\n",
    "Use the `plt.specgram` function to plot a spectrogram of the first 60 seconds of the EEG data from one channel. You'll need to set the parameter `Fs` appropriately. Label the x- and y-axes appropriately (with units).\n",
    "\n",
    "(Ungraded) You can also try playing with the `NFFT` and `noverlap` parameters to `plt.specgram`. Some settings of these parameters are illegal and will make `specgram` error--specifically, `noverlap` needs to be smaller than `NFFT`. What effect do these parameters have?"
   ]
  },
  {
   "cell_type": "code",
   "execution_count": null,
   "metadata": {},
   "outputs": [],
   "source": [
    "# plot a spectrogram"
   ]
  },
  {
   "cell_type": "markdown",
   "metadata": {},
   "source": [
    "## (d) Filter the EEG data to remove noise (15 pts)\n",
    "\n",
    "The big spike at 60 Hz is _definitely_ noise. Let's filter the EEG signal to remove it.\n",
    "\n",
    "The simplest thing to do would be to low-pass filter just below 60 Hz (since there probably isn't much interesting signal in the 60-64 Hz range anyway, and 64 Hz is the highest frequency we can see here -- Nyquist!!).\n",
    "\n",
    "**First,** design a low-pass filter using `signal.firwin`. You should set the `cutoff` frequency to something like 55 Hz, and make sure to set the sampling rate `fs` so that `firwin` knows how to handle the cutoff frequency you give it. Look at the docs for `signal.firwin` and check out the demos and notes for lecture 27 to see a demo of how to use this function. You'll also need to choose the number of taps in the filter--remember that fewer taps means a \"softer\" filter, while more taps means a \"sharper\" filter. You can play with this parameter to get a result that looks good.\n",
    "\n",
    "**Second,** plot your filter using `plt.plot` to see what it looks like. Label the x-axis, with units.\n",
    "\n",
    "**Third,** use `signal.freqz` to get the frequency response of your filter, and plot it. Make sure to use `np.abs` to get the magnitude of the complex-valued numbers that `freqz` gives you. (And remember that the frequencies `freqz` gives you are \"helpfully\" in units of radians per sample. You should figure out how to convert these units to Hz, i.e. samples per second.)\n",
    "\n",
    "**Fourth,** apply the filter to the EEG data (use channel 0) using `np.convolve`. Plot the first 10 seconds of the resulting filtered timeseries as well as the first 10 seconds of the original timeseries on the same axis. How do they compare?\n",
    "\n",
    "**Fifth,** plot the power spectrum of the filtered EEG signal. Make sure the units are correct and labeled."
   ]
  },
  {
   "cell_type": "code",
   "execution_count": null,
   "metadata": {},
   "outputs": [],
   "source": [
    "# design a low-pass filter"
   ]
  },
  {
   "cell_type": "code",
   "execution_count": null,
   "metadata": {},
   "outputs": [],
   "source": [
    "# plot the filter"
   ]
  },
  {
   "cell_type": "code",
   "execution_count": null,
   "metadata": {},
   "outputs": [],
   "source": [
    "# plot the frequency response of the filter"
   ]
  },
  {
   "cell_type": "code",
   "execution_count": null,
   "metadata": {},
   "outputs": [],
   "source": [
    "# filter the signal from one EEG channel"
   ]
  },
  {
   "cell_type": "code",
   "execution_count": null,
   "metadata": {},
   "outputs": [],
   "source": [
    "# plot filtered & original data in same axis to compare"
   ]
  },
  {
   "cell_type": "code",
   "execution_count": null,
   "metadata": {},
   "outputs": [],
   "source": [
    "# plot power spectrum of the filtered EEG data"
   ]
  }
 ],
 "metadata": {
  "kernelspec": {
   "display_name": "Python 3",
   "language": "python",
   "name": "python3"
  },
  "language_info": {
   "codemirror_mode": {
    "name": "ipython",
    "version": 3
   },
   "file_extension": ".py",
   "mimetype": "text/x-python",
   "name": "python",
   "nbconvert_exporter": "python",
   "pygments_lexer": "ipython3",
   "version": "3.6.8"
  }
 },
 "nbformat": 4,
 "nbformat_minor": 2
}
