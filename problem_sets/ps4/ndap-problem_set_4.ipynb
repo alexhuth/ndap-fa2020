{
 "cells": [
  {
   "cell_type": "markdown",
   "metadata": {},
   "source": [
    "Before you turn this problem in, make sure everything runs as expected. First, **restart the kernel** (in the menubar, select Kernel$\\rightarrow$Restart) and then **run all cells** (in the menubar, select Cell$\\rightarrow$Run All).\n",
    "\n",
    "Make sure you fill in any place that says `YOUR CODE HERE` or \"YOUR ANSWER HERE\", as well as your name and collaborators below:"
   ]
  },
  {
   "cell_type": "code",
   "execution_count": null,
   "metadata": {},
   "outputs": [],
   "source": [
    "NAME = \"\"\n",
    "COLLABORATORS = \"\""
   ]
  },
  {
   "cell_type": "markdown",
   "metadata": {},
   "source": [
    "# Neuro Data Analysis in Python: Problem Set 4\n",
    "\n",
    "This is the fourth problem set. It has 3 problems, worth a total of 41 points. It is due before class (i.e. by 10:59 AM) on 10/30/2020. For late policy please see [the syllabus](https://github.com/alexhuth/ndap-fa2020/blob/master/README.md#late-homework--extension-policy). Partial credit will be awarded for partially correct solutions.\n",
    "\n",
    "\n",
    "## Homework submission\n",
    "\n",
    "When you've finished, rename the notebook file to `problemset4-YOUREID.ipynb`. For example, if your EID is `ab12345`, you should call it `problemset4-ab12345.ipynb`. Then upload your completed problem set to canvas."
   ]
  },
  {
   "cell_type": "code",
   "execution_count": null,
   "metadata": {},
   "outputs": [],
   "source": [
    "%matplotlib inline\n",
    "%config InlineBackend.figure_format = 'retina'\n",
    "\n",
    "import numpy as np\n",
    "from matplotlib import pyplot as plt\n",
    "from scipy import stats"
   ]
  },
  {
   "cell_type": "markdown",
   "metadata": {},
   "source": [
    "---\n",
    "# Problem 1. (9 pts)\n",
    "Solve each part."
   ]
  },
  {
   "cell_type": "code",
   "execution_count": null,
   "metadata": {},
   "outputs": [],
   "source": [
    "# run this cell to create some data\n",
    "my_data_1 = np.random.randn(100)\n",
    "my_data_2 = my_data_1 + np.random.randn(100)"
   ]
  },
  {
   "cell_type": "code",
   "execution_count": null,
   "metadata": {},
   "outputs": [],
   "source": [
    "# compute the mean of my_data_1 (1 pt)\n",
    "### YOUR CODE HERE ###"
   ]
  },
  {
   "cell_type": "code",
   "execution_count": null,
   "metadata": {},
   "outputs": [],
   "source": [
    "# compute the median of my_data_1 (1 pt)\n",
    "### YOUR CODE HERE ###"
   ]
  },
  {
   "cell_type": "code",
   "execution_count": null,
   "metadata": {},
   "outputs": [],
   "source": [
    "# compute the variance (not sample variance) of my_data_1 (1 pt)\n",
    "### YOUR CODE HERE ###"
   ]
  },
  {
   "cell_type": "code",
   "execution_count": null,
   "metadata": {},
   "outputs": [],
   "source": [
    "# compute the SAMPLE variance of my_data_1 (1 pt)\n",
    "### YOUR CODE HERE ###"
   ]
  },
  {
   "cell_type": "code",
   "execution_count": null,
   "metadata": {},
   "outputs": [],
   "source": [
    "# compute the standard deviation (not sample standard deviation) of my_data_1 (1 pt)\n",
    "### YOUR CODE HERE ###"
   ]
  },
  {
   "cell_type": "code",
   "execution_count": null,
   "metadata": {},
   "outputs": [],
   "source": [
    "# compute the SAMPLE standard deviation of my_data_1 (1 pt)\n",
    "### YOUR CODE HERE ###"
   ]
  },
  {
   "cell_type": "code",
   "execution_count": null,
   "metadata": {},
   "outputs": [],
   "source": [
    "# compute the correlation of my_data_1 and my_data_2 (1 pt)\n",
    "# (this should only be a single number, not a matrix!)\n",
    "### YOUR CODE HERE ###"
   ]
  },
  {
   "cell_type": "code",
   "execution_count": null,
   "metadata": {},
   "outputs": [],
   "source": [
    "# compute the covariance of my_data_1 and my_data_2 (1 pt)\n",
    "# (this should also just be a single number)\n",
    "### YOUR CODE HERE ###"
   ]
  },
  {
   "cell_type": "code",
   "execution_count": null,
   "metadata": {},
   "outputs": [],
   "source": [
    "# compute the 10th and 90th percentiles of my_data_1 (1 pt)\n",
    "### YOUR CODE HERE ###"
   ]
  },
  {
   "cell_type": "markdown",
   "metadata": {},
   "source": [
    "***\n",
    "# Problem 2. (16 pts)\n",
    "Suppose that we have run an experiment to see whether a new training strategy changes subjects' performance on a task. We first test 200 subjects on the task without training them, giving us the scores `d1`. Then we get 200 more subjects, train them using the new strategy, and then test how well they perform the task, giving the scores `d2`. We want to know whether the performance is different between these two groups (but we don't care which direction the difference lies).\n",
    "\n",
    "In this problem you'll test whether these two datasets have significantly different means using a few different techniques."
   ]
  },
  {
   "cell_type": "code",
   "execution_count": null,
   "metadata": {},
   "outputs": [],
   "source": [
    "# Load the data\n",
    "datafile = np.load('ps4_dataset_2.npz')\n",
    "d1 = datafile['data1']\n",
    "d2 = datafile['data2']\n",
    "\n",
    "# Let's see the size of each array\n",
    "print(d1.shape)\n",
    "print(d2.shape)\n",
    "\n",
    "# and print the mean of each\n",
    "print('d1 mean:', d1.mean())\n",
    "print('d2 mean:', d2.mean())"
   ]
  },
  {
   "cell_type": "markdown",
   "metadata": {},
   "source": [
    "## (a) Use a t-test to see whether the means are significantly different (2 pts)\n",
    "Use the function `ttest_ind` to test whether the means of the two dataset are significantly different. Print the p-value. Note that this is a 2-sided test because it is testing whether the two are _different_ (i.e. either d1's mean is greater than d2, or vice versa).\n",
    "\n",
    "Print the p-value."
   ]
  },
  {
   "cell_type": "code",
   "execution_count": null,
   "metadata": {},
   "outputs": [],
   "source": [
    "### YOUR CODE HERE ###"
   ]
  },
  {
   "cell_type": "markdown",
   "metadata": {},
   "source": [
    "## (b) Use a bootstrap test to see whether the means are different (7 pts)\n",
    "Next, design and use a bootstrap test to tell whether the two datasets have significantly different means. This is a little different than the bootstrap procedures we used previously in class, because here we will use the bootstrap to generate a distribution of the null hypothesis. See [here](https://en.wikipedia.org/wiki/Bootstrapping_%28statistics%29#Bootstrap_hypothesis_testing) for a different description of this procedure.\n",
    "\n",
    "Here's the procedure you should use:\n",
    "1. Create a new dataset `d1_2` by subtracting the mean of d1 from d1, and then adding the mean of the combined sample (i.e. the concatenation of d1 and d2)\n",
    "2. Similarly create a new dataset `d2_2` by subtracting the mean of d2 from d2, and then adding the combined mean\n",
    "3. Draw bootstrap samples from `d1_2` and `d2_2`, and compute the difference of their means (the function `np.random.choice` might be useful here)\n",
    "4. Repeat step 3 many (10,000) times\n",
    "5. Compute the p-value of the difference between d1 and d2 by comparing the actual difference in means between d1 and d2 to the bootstrap samples\n",
    "\n",
    "The bootstrap p-value that you get at the end should be about the same as what you got for the t-test."
   ]
  },
  {
   "cell_type": "code",
   "execution_count": null,
   "metadata": {},
   "outputs": [],
   "source": [
    "# create new datasets d1_2 and d2_2\n",
    "d1_2 = ### YOUR CODE HERE ###\n",
    "d2_2 = ### YOUR CODE HERE ###\n",
    "\n",
    "# create array to hold bootstrap mean differences\n",
    "nbootstraps = 10000\n",
    "bs_mean_diffs = ### YOUR CODE HERE ###\n",
    "\n",
    "# take bootstrap samples many times\n",
    "for ii in range(nbootstraps):\n",
    "    # choose which indices will be used from d1_2 and d2_2\n",
    "    inds1 = ### YOUR CODE HERE ###\n",
    "    inds2 = ### YOUR CODE HERE ###\n",
    "    \n",
    "    # create your bootstrap samples\n",
    "    bs_d1 = ### YOUR CODE HERE ###\n",
    "    bs_d2 = ### YOUR CODE HERE\n",
    "    \n",
    "    # measure their difference and store it\n",
    "    ### YOUR CODE HERE ###\n",
    "\n",
    "# take the absolute value of each bootstrap difference, and find the fraction that are \n",
    "# larger than the absolute mean difference between d1 and d2. this is the bootstrap p-value\n",
    "bs_pval = ### YOUR CODE HERE ###\n",
    "\n",
    "print('bootstrap p-value:', bs_pval)"
   ]
  },
  {
   "cell_type": "markdown",
   "metadata": {},
   "source": [
    "## (c) Use a permutation test to see whether the means are different (7 pts)\n",
    "Next, design and use a permutation test to tell whether the two datasets have significantly different means. That'll work like this:\n",
    "1. Lump both datasets together into one using `np.hstack`.\n",
    "2. Randomly permute (shuffle) the lumped dataset using `np.random.permutation`\n",
    "3. Split the shuffled data into two datasets the same size as d1 and d2\n",
    "4. Compute the difference between the means of the new shuffled datasets\n",
    "5. Repeat steps 2-4 many (10,000) times\n",
    "6. Compare the actual difference to the permutation samples to get the p-value\n",
    "\n",
    "The permutation p-value you get at the end should be about the same as what you got for the t-test and bootstrap test."
   ]
  },
  {
   "cell_type": "code",
   "execution_count": null,
   "metadata": {},
   "outputs": [],
   "source": [
    "# lump both datasets together\n",
    "d_lump = ### YOUR CODE HERE ###\n",
    "\n",
    "# create array to hold permutation differences\n",
    "npermutations = 10000\n",
    "p_mean_diffs = ### YOUR CODE HERE ###\n",
    "\n",
    "# permute & compute many times\n",
    "for ii in range(npermutations):\n",
    "    # permute d_lump\n",
    "    perm_d_lump = ### YOUR CODE HERE ###\n",
    "    \n",
    "    # split it into two parts and find the difference of their means\n",
    "    perm_d1 = ### YOUR CODE HERE ###\n",
    "    perm_d2 = ### YOUR CODE HERE ###\n",
    "    \n",
    "    # compute the difference of their means and store it\n",
    "    ### YOUR CODE HERE ###\n",
    "\n",
    "\n",
    "# take the absolute value of each permutation difference, and find the fraction that are \n",
    "# larger than the absolute mean difference between d1 and d2. this is the permutation p-value\n",
    "p_pval = ### YOUR CODE HERE ###\n",
    "\n",
    "print('permutation p-value:', p_pval)"
   ]
  },
  {
   "cell_type": "markdown",
   "metadata": {},
   "source": [
    "---\n",
    "# Problem 3. (16 pts)\n",
    "Now suppose that we've realized our initial experimental design was a nightmare. (400 subjects, who has the time!) So for the next experiment (and new training strategy) we've gone with a different design. This time, we test each of the 200 subjects (as before, yielding the dataset `e1`), _then_ train them using our new training strategy, then test each subject _again_, yielding the dataset `e2`.\n",
    "\n",
    "This time the datasets are _paired_, meaning that `e1[0]` and `e2[0]` are from the same subject. We have to account for this in our analyses, because what we really care about is how much each subject _changed_."
   ]
  },
  {
   "cell_type": "code",
   "execution_count": null,
   "metadata": {},
   "outputs": [],
   "source": [
    "# Load the data\n",
    "datafile = np.load('ps4_dataset_3.npz')\n",
    "e1 = datafile['data1']\n",
    "e2 = datafile['data2']\n",
    "\n",
    "# Let's see the size of each array\n",
    "print(e1.shape)\n",
    "print(e2.shape)\n",
    "\n",
    "# and print the mean of each\n",
    "print('e1 mean:', e1.mean())\n",
    "print('e2 mean:', e2.mean())"
   ]
  },
  {
   "cell_type": "markdown",
   "metadata": {},
   "source": [
    "## (a) Use a t-test and paired t-test to compare means (2 pts)\n",
    "First, use a normal t-test (as before) to compare the means of `e1` and `e2`. Then, use a paired t-test (`ttest_rel`). Print the p-values for both."
   ]
  },
  {
   "cell_type": "code",
   "execution_count": null,
   "metadata": {},
   "outputs": [],
   "source": [
    "### YOUR CODE HERE ###"
   ]
  },
  {
   "cell_type": "markdown",
   "metadata": {},
   "source": [
    "## (b) Use a paired bootstrap test to compare the means (7 pts)\n",
    "Design and run a paired bootstrap test to compare the means of `e1` and `e2`. This should look almost identical to the simple bootstrap test above, but with one critical difference. Think hard about what the bootstrap samples represent, and how to make it paired. As before, use 10,000 bootstrap samples.\n",
    "\n",
    "Print the bootstrap p-value at the end."
   ]
  },
  {
   "cell_type": "code",
   "execution_count": null,
   "metadata": {},
   "outputs": [],
   "source": [
    "### YOUR CODE HERE ###"
   ]
  },
  {
   "cell_type": "markdown",
   "metadata": {},
   "source": [
    "## (c) Use a paired permutation test to compare the means (7 pts)\n",
    "Design and run a paired permutation test to compare the means of `e1` and `e2`. Unlike for the bootstrap, the paired permutation test is actually quite different from the normal permutation test. Remember that you need to keep the pairs of datapoints together. Think hard about what the null hypothesis (i.e. that the training had no effect) would mean when you do permutation. As before, do 10,000 permutations.\n",
    "\n",
    "Print the permutation p-value at the end."
   ]
  },
  {
   "cell_type": "code",
   "execution_count": null,
   "metadata": {},
   "outputs": [],
   "source": [
    "### YOUR CODE HERE ###"
   ]
  }
 ],
 "metadata": {
  "kernelspec": {
   "display_name": "Python 3",
   "language": "python",
   "name": "python3"
  },
  "language_info": {
   "codemirror_mode": {
    "name": "ipython",
    "version": 3
   },
   "file_extension": ".py",
   "mimetype": "text/x-python",
   "name": "python",
   "nbconvert_exporter": "python",
   "pygments_lexer": "ipython3",
   "version": "3.6.8"
  }
 },
 "nbformat": 4,
 "nbformat_minor": 2
}
