{
 "cells": [
  {
   "cell_type": "code",
   "execution_count": 1,
   "metadata": {
    "scrolled": true
   },
   "outputs": [
    {
     "name": "stdout",
     "output_type": "stream",
     "text": [
      "7\n",
      "[1, 2, 7, 99, 324]\n"
     ]
    }
   ],
   "source": [
    "# Here I'm just defining some variables!\n",
    "# select this cell and press Shift+Enter to run it\n",
    "# it should print 7, then the contents of my_list\n",
    "\n",
    "my_variable = 7\n",
    "\n",
    "my_list = [1,2,7,99,324]\n",
    "\n",
    "def my_function(a,b):\n",
    "    print(a * b)\n",
    "    \n",
    "print(my_variable)\n",
    "print(my_list)"
   ]
  },
  {
   "cell_type": "code",
   "execution_count": 2,
   "metadata": {},
   "outputs": [
    {
     "name": "stdout",
     "output_type": "stream",
     "text": [
      "1\n",
      "3\n",
      "4\n",
      "4\n",
      "49\n",
      "9\n",
      "9801\n",
      "101\n",
      "wow this is a really big number!\n",
      "104976\n",
      "326\n",
      "wow this is a really big number!\n"
     ]
    }
   ],
   "source": [
    "# this cell will do a few things for each element of my_list\n",
    "\n",
    "for x in my_list:\n",
    "    print(x * x)\n",
    "    print(x + 2)\n",
    "    if x > 50:\n",
    "        print(\"wow this is a really big number!\")"
   ]
  },
  {
   "cell_type": "code",
   "execution_count": 3,
   "metadata": {},
   "outputs": [
    {
     "name": "stdout",
     "output_type": "stream",
     "text": [
      "[-2, 'hello', 7]\n"
     ]
    }
   ],
   "source": [
    "my_list = [-2, 'hello', my_variable]\n",
    "print(my_list)"
   ]
  },
  {
   "cell_type": "code",
   "execution_count": 4,
   "metadata": {},
   "outputs": [
    {
     "data": {
      "text/plain": [
       "'hello2'"
      ]
     },
     "execution_count": 4,
     "metadata": {},
     "output_type": "execute_result"
    }
   ],
   "source": [
    "'hello' + str(2)"
   ]
  },
  {
   "cell_type": "code",
   "execution_count": 5,
   "metadata": {},
   "outputs": [
    {
     "data": {
      "text/plain": [
       "'hellohellohellohellohellohellohello'"
      ]
     },
     "execution_count": 5,
     "metadata": {},
     "output_type": "execute_result"
    }
   ],
   "source": [
    "'hello' * 7"
   ]
  },
  {
   "cell_type": "code",
   "execution_count": null,
   "metadata": {},
   "outputs": [],
   "source": []
  }
 ],
 "metadata": {
  "kernelspec": {
   "display_name": "Python 2",
   "language": "python",
   "name": "python2"
  },
  "language_info": {
   "codemirror_mode": {
    "name": "ipython",
    "version": 2
   },
   "file_extension": ".py",
   "mimetype": "text/x-python",
   "name": "python",
   "nbconvert_exporter": "python",
   "pygments_lexer": "ipython2",
   "version": "2.7.11"
  }
 },
 "nbformat": 4,
 "nbformat_minor": 2
}
