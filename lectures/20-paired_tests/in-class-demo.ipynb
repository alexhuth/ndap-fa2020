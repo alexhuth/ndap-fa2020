{
 "cells": [
  {
   "cell_type": "code",
   "execution_count": 1,
   "metadata": {},
   "outputs": [],
   "source": [
    "%matplotlib inline\n",
    "\n",
    "import numpy as np\n",
    "from matplotlib import pyplot as plt\n",
    "import scipy.stats"
   ]
  },
  {
   "cell_type": "code",
   "execution_count": 2,
   "metadata": {},
   "outputs": [],
   "source": [
    "# some experimental constants\n",
    "nsubjects = 20\n",
    "nstillfaces = 50\n",
    "nmovingfaces = 50"
   ]
  },
  {
   "cell_type": "code",
   "execution_count": 3,
   "metadata": {},
   "outputs": [],
   "source": [
    "# still response = gaussian with mean=0, std=1\n",
    "still_resp_1 = np.random.randn(nsubjects, nstillfaces)\n",
    "\n",
    "# moving response = gaussian with mean=1, std=1\n",
    "moving_resp_1 = np.random.randn(nsubjects, nmovingfaces) + 1"
   ]
  },
  {
   "cell_type": "code",
   "execution_count": 5,
   "metadata": {},
   "outputs": [
    {
     "data": {
      "text/plain": [
       "<matplotlib.legend.Legend at 0x125274128>"
      ]
     },
     "execution_count": 5,
     "metadata": {},
     "output_type": "execute_result"
    },
    {
     "data": {
      "image/png": "[encoded data removed]",
      "text/plain": [
       "<Figure size 432x288 with 1 Axes>"
      ]
     },
     "metadata": {},
     "output_type": "display_data"
    }
   ],
   "source": [
    "plt.hist(still_resp_1.ravel(), 50, histtype='step', label='still')\n",
    "plt.hist(moving_resp_1.ravel(), 50, histtype='step', label='moving');\n",
    "plt.legend()"
   ]
  },
  {
   "cell_type": "code",
   "execution_count": 7,
   "metadata": {},
   "outputs": [
    {
     "data": {
      "text/plain": [
       "Ttest_indResult(statistic=-29.039071239805946, pvalue=1.5035370620403646e-27)"
      ]
     },
     "execution_count": 7,
     "metadata": {},
     "output_type": "execute_result"
    }
   ],
   "source": [
    "scipy.stats.ttest_ind(still_resp_1.mean(axis=1), moving_resp_1.mean(axis=1))"
   ]
  },
  {
   "cell_type": "code",
   "execution_count": 12,
   "metadata": {},
   "outputs": [],
   "source": [
    "# still response = gaussian with mean=0, std=1\n",
    "still_resp_2 = np.random.randn(nsubjects, nstillfaces)\n",
    "\n",
    "# moving response = gaussian with mean=0.25, std=1\n",
    "moving_resp_2 = np.random.randn(nsubjects, nmovingfaces) + 0.25"
   ]
  },
  {
   "cell_type": "code",
   "execution_count": 13,
   "metadata": {},
   "outputs": [
    {
     "data": {
      "text/plain": [
       "<matplotlib.legend.Legend at 0x12539b198>"
      ]
     },
     "execution_count": 13,
     "metadata": {},
     "output_type": "execute_result"
    },
    {
     "data": {
      "image/png": "[encoded data removed]",
      "text/plain": [
       "<Figure size 432x288 with 1 Axes>"
      ]
     },
     "metadata": {},
     "output_type": "display_data"
    }
   ],
   "source": [
    "plt.hist(still_resp_2.ravel(), 50, histtype='step', label='still')\n",
    "plt.hist(moving_resp_2.ravel(), 50, histtype='step', label='moving');\n",
    "plt.legend()"
   ]
  },
  {
   "cell_type": "code",
   "execution_count": 14,
   "metadata": {},
   "outputs": [
    {
     "data": {
      "text/plain": [
       "Ttest_indResult(statistic=-4.788732929464289, pvalue=2.5628848117658384e-05)"
      ]
     },
     "execution_count": 14,
     "metadata": {},
     "output_type": "execute_result"
    }
   ],
   "source": [
    "scipy.stats.ttest_ind(still_resp_2.mean(1), moving_resp_2.mean(1))"
   ]
  },
  {
   "cell_type": "code",
   "execution_count": 15,
   "metadata": {},
   "outputs": [],
   "source": [
    "# baseline response = gaussian with mean=0, std=3\n",
    "subject_baseline = np.random.randn(nsubjects) * 3\n",
    "\n",
    "# still response = gaussian with mean=0, std=1\n",
    "still_resp_3 = np.random.randn(nsubjects, nstillfaces) + subject_baseline[:,np.newaxis]\n",
    "\n",
    "# moving response = gaussian with mean=0.25, std=1\n",
    "moving_resp_3 = np.random.randn(nsubjects, nmovingfaces) + 0.25 + subject_baseline[:,np.newaxis]"
   ]
  },
  {
   "cell_type": "code",
   "execution_count": 16,
   "metadata": {},
   "outputs": [
    {
     "data": {
      "text/plain": [
       "<matplotlib.legend.Legend at 0x12555eb00>"
      ]
     },
     "execution_count": 16,
     "metadata": {},
     "output_type": "execute_result"
    },
    {
     "data": {
      "image/png": "[encoded data removed]",
      "text/plain": [
       "<Figure size 432x288 with 1 Axes>"
      ]
     },
     "metadata": {},
     "output_type": "display_data"
    }
   ],
   "source": [
    "plt.hist(still_resp_3.ravel(), 50, histtype='step', label='still')\n",
    "plt.hist(moving_resp_3.ravel(), 50, histtype='step', label='moving');\n",
    "plt.legend()"
   ]
  },
  {
   "cell_type": "code",
   "execution_count": 17,
   "metadata": {},
   "outputs": [
    {
     "data": {
      "text/plain": [
       "Ttest_indResult(statistic=-0.1684288484525621, pvalue=0.867139211541192)"
      ]
     },
     "execution_count": 17,
     "metadata": {},
     "output_type": "execute_result"
    }
   ],
   "source": [
    "scipy.stats.ttest_ind(still_resp_3.mean(1), moving_resp_3.mean(1))"
   ]
  },
  {
   "cell_type": "code",
   "execution_count": 19,
   "metadata": {},
   "outputs": [
    {
     "data": {
      "text/plain": [
       "Ttest_relResult(statistic=-5.050358722234567, pvalue=7.105265047599228e-05)"
      ]
     },
     "execution_count": 19,
     "metadata": {},
     "output_type": "execute_result"
    }
   ],
   "source": [
    "scipy.stats.ttest_rel(still_resp_3.mean(1), moving_resp_3.mean(1))"
   ]
  },
  {
   "cell_type": "code",
   "execution_count": 20,
   "metadata": {},
   "outputs": [
    {
     "data": {
      "text/plain": [
       "Ttest_1sampResult(statistic=5.050358722234567, pvalue=7.105265047599228e-05)"
      ]
     },
     "execution_count": 20,
     "metadata": {},
     "output_type": "execute_result"
    }
   ],
   "source": [
    "# equivalent to:\n",
    "scipy.stats.ttest_1samp(moving_resp_3.mean(1) - still_resp_3.mean(1), 0)"
   ]
  },
  {
   "cell_type": "code",
   "execution_count": 92,
   "metadata": {},
   "outputs": [],
   "source": [
    "# alternative experiment!\n",
    "# hypothesis: in people with ASD, there is a smaller response\n",
    "# to moving face stimuli in STS than in people without ASD\n",
    "\n",
    "nsubjects_per_group = 100\n",
    "\n",
    "asd_subject_baseline = np.random.randn(nsubjects_per_group) * 3\n",
    "nonasd_subject_baseline = np.random.randn(nsubjects_per_group) * 3\n",
    "\n",
    "asd_responses_1 = np.random.randn(nsubjects_per_group, nmovingfaces) + asd_subject_baseline[:,np.newaxis]\n",
    "nonasd_responses_1 = np.random.randn(nsubjects_per_group, nmovingfaces) + 0.25 + nonasd_subject_baseline[:,np.newaxis]\n",
    "\n",
    "\n",
    "# we need many more subjects in this case because the between subject variability is high!\n",
    "# and there's no way to \"pair\" data, because each sample comes from a different subject\n"
   ]
  },
  {
   "cell_type": "code",
   "execution_count": 96,
   "metadata": {},
   "outputs": [
    {
     "data": {
      "text/plain": [
       "(array([ 2.17086426e-01, -2.95997606e+00, -6.23226208e+00,  2.19603774e+00,\n",
       "         2.12782504e+00, -3.61043247e+00,  9.71638004e-01,  4.66307927e+00,\n",
       "         1.37720826e+00,  5.13309795e+00,  2.89981627e-03, -1.69775894e+00,\n",
       "        -5.70110793e-01,  3.14976615e+00, -4.02585628e+00, -2.19141806e+00,\n",
       "         2.15743114e+00,  3.03478570e+00, -2.22622169e+00,  6.90272184e-01,\n",
       "        -1.28954152e+00, -2.64510426e+00,  1.30704630e-01,  3.75698449e+00,\n",
       "        -1.09175576e-01,  3.48669132e-01,  5.78665576e+00,  7.11971608e-01,\n",
       "        -4.25704240e+00, -2.17512114e+00, -5.14475508e-01, -3.21443141e+00,\n",
       "         5.22676106e+00, -9.65124319e-01,  2.31125843e+00, -2.22584960e+00,\n",
       "         3.44291644e+00, -3.53196152e+00,  4.32628424e-01, -6.27030743e-01,\n",
       "         1.68592898e+00, -4.24148171e+00, -1.01185875e-01, -1.74202701e+00,\n",
       "         8.19279232e-01, -2.39862032e+00,  1.28118079e+00,  5.64928879e-02,\n",
       "        -1.02688641e+00, -2.75931475e+00,  2.66903468e+00, -1.06421610e+00,\n",
       "        -5.08700509e-01,  2.30478389e+00,  2.05835133e+00, -4.20521342e-01,\n",
       "         1.65046725e+00,  8.42763549e-01, -1.21197002e+00, -3.00546659e+00,\n",
       "        -4.21149609e+00,  2.35908720e+00, -7.84797856e-01, -3.07578406e+00,\n",
       "         1.36149012e+00,  4.27808906e+00, -2.92067813e+00,  1.07896737e+01,\n",
       "         1.23012365e+00, -3.28735180e+00, -2.26743834e+00,  3.72541474e+00,\n",
       "         1.90344063e+00, -1.21396484e+00, -8.71000375e-01,  9.55985647e-01,\n",
       "         2.55580097e+00,  2.09308108e+00,  4.38140490e+00, -5.85657466e+00,\n",
       "         1.06126643e+00, -1.31984304e+00, -3.92274055e+00,  8.61032638e-01,\n",
       "        -1.83165596e+00,  1.29903307e+00, -1.93542305e-01, -3.46808814e+00,\n",
       "        -5.30035247e+00, -4.85829042e+00, -6.07529184e+00,  2.40603577e+00,\n",
       "         9.80396462e-01,  3.00752501e+00, -5.44967281e+00, -1.53687872e+00,\n",
       "         1.33489926e+00, -2.65767986e+00, -2.01118733e+00,  5.50474669e+00]),\n",
       " array([ 1.75313592, -1.81398914, -4.20811971, -5.49549582, -2.5401192 ,\n",
       "         4.81606224,  1.87477927, -3.43052343, -2.09208404, -2.97828221,\n",
       "         3.58266569, -0.26042472, -0.04738175,  3.94152436,  0.96767823,\n",
       "        -1.75236012,  2.86503499,  2.24730866,  0.6905873 ,  0.36498358,\n",
       "        -1.82757003,  5.76850918, -0.53405123,  1.09703546, -3.6556096 ,\n",
       "        -2.30533525, -2.71348888,  5.55881218,  0.48648089,  0.58142286,\n",
       "         2.97628703,  1.77304685,  1.81658087, -0.6757792 ,  2.64994798,\n",
       "        -0.90701037,  1.22880221,  3.81491587, -0.08674388, -4.49936946,\n",
       "         1.55596393, -0.01535302,  1.84829703,  3.16409333, -1.30809081,\n",
       "         1.67450293,  0.81546555,  3.88307303, -2.72171675,  3.35805757,\n",
       "        -0.89385151,  4.69578636, -6.73535624,  1.56143891, -1.23091838,\n",
       "        -2.04571939,  2.71847408,  3.00697588, -1.12845933,  3.42410214,\n",
       "        -0.06010114, -0.81625384, -0.12505973, -4.18034639,  2.84917298,\n",
       "        -3.09929077, -1.99789111,  1.77196193,  3.3470821 ,  3.2113366 ,\n",
       "        -0.44039215, -0.42696057,  0.08414595,  9.41245074,  4.70324267,\n",
       "        -0.61318115,  0.21501502,  1.99980138, -0.21982722, -2.51432571,\n",
       "        -0.51208978,  2.16626604,  0.78340281,  1.38700331,  2.68664041,\n",
       "         2.13158834, -1.43385584,  0.92824042, -5.84146327, -5.31375594,\n",
       "         3.60575023, -3.75281302,  0.23148936, -1.25485732, -1.28561792,\n",
       "         2.54169272, -0.55740975,  0.02452731,  1.2233469 ,  3.05779827]))"
      ]
     },
     "execution_count": 96,
     "metadata": {},
     "output_type": "execute_result"
    }
   ],
   "source": [
    "asd_responses_1.mean(1), nonasd_responses_1.mean(1)"
   ]
  },
  {
   "cell_type": "code",
   "execution_count": 93,
   "metadata": {},
   "outputs": [
    {
     "data": {
      "text/plain": [
       "Ttest_indResult(statistic=-1.262082925973379, pvalue=0.20840355405635652)"
      ]
     },
     "execution_count": 93,
     "metadata": {},
     "output_type": "execute_result"
    }
   ],
   "source": [
    "scipy.stats.ttest_ind(asd_responses_1.mean(1), nonasd_responses_1.mean(1))"
   ]
  },
  {
   "cell_type": "code",
   "execution_count": null,
   "metadata": {},
   "outputs": [],
   "source": []
  }
 ],
 "metadata": {
  "kernelspec": {
   "display_name": "Python 3",
   "language": "python",
   "name": "python3"
  },
  "language_info": {
   "codemirror_mode": {
    "name": "ipython",
    "version": 3
   },
   "file_extension": ".py",
   "mimetype": "text/x-python",
   "name": "python",
   "nbconvert_exporter": "python",
   "pygments_lexer": "ipython3",
   "version": "3.6.8"
  }
 },
 "nbformat": 4,
 "nbformat_minor": 2
}
