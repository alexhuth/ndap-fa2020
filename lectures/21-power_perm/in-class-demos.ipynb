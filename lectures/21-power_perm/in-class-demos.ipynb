{
 "cells": [
  {
   "cell_type": "code",
   "execution_count": 1,
   "metadata": {},
   "outputs": [],
   "source": [
    "%matplotlib inline\n",
    "import numpy as np\n",
    "from matplotlib import pyplot as plt\n",
    "import scipy.stats"
   ]
  },
  {
   "cell_type": "code",
   "execution_count": 2,
   "metadata": {},
   "outputs": [],
   "source": [
    "sample_A = np.random.randn(20) + 0.8\n",
    "sample_B = np.random.randn(20)"
   ]
  },
  {
   "cell_type": "code",
   "execution_count": 3,
   "metadata": {},
   "outputs": [
    {
     "data": {
      "image/png": "[encoded data removed]",
      "text/plain": [
       "<Figure size 432x288 with 1 Axes>"
      ]
     },
     "metadata": {},
     "output_type": "display_data"
    }
   ],
   "source": [
    "plt.hist(sample_A);\n",
    "plt.hist(sample_B);"
   ]
  },
  {
   "cell_type": "code",
   "execution_count": 4,
   "metadata": {},
   "outputs": [
    {
     "name": "stdout",
     "output_type": "stream",
     "text": [
      "0.732443527937769\n"
     ]
    }
   ],
   "source": [
    "actual_difference = sample_A.mean() - sample_B.mean()\n",
    "print(actual_difference)"
   ]
  },
  {
   "cell_type": "code",
   "execution_count": 5,
   "metadata": {},
   "outputs": [
    {
     "data": {
      "text/plain": [
       "(40,)"
      ]
     },
     "execution_count": 5,
     "metadata": {},
     "output_type": "execute_result"
    }
   ],
   "source": [
    "all_samples = np.hstack([sample_A, sample_B])\n",
    "all_samples.shape"
   ]
  },
  {
   "cell_type": "code",
   "execution_count": 6,
   "metadata": {},
   "outputs": [],
   "source": [
    "np.random.permutation?"
   ]
  },
  {
   "cell_type": "code",
   "execution_count": 7,
   "metadata": {},
   "outputs": [
    {
     "data": {
      "text/plain": [
       "array([0, 3, 1, 2, 4])"
      ]
     },
     "execution_count": 7,
     "metadata": {},
     "output_type": "execute_result"
    }
   ],
   "source": [
    "np.random.permutation(5)"
   ]
  },
  {
   "cell_type": "code",
   "execution_count": 9,
   "metadata": {},
   "outputs": [
    {
     "data": {
      "text/plain": [
       "array([ 0.07822753, -0.03322477,  0.64654094, -0.47948808,  0.25549396,\n",
       "       -0.14773836, -1.67849045, -0.47056547,  0.94275889, -0.79877097,\n",
       "       -0.24813649,  2.37041828, -0.95283352,  1.1963641 ,  0.96471652,\n",
       "        1.8583046 ,  0.32194819, -0.89404116,  1.01778985,  1.66472771,\n",
       "        0.54598004,  1.09995512, -0.05529165,  0.077334  ,  0.90360774,\n",
       "        0.63823145,  0.39587108, -2.28188584, -1.16909624,  1.11533553,\n",
       "       -0.66827609,  0.5496132 ,  2.97262648,  0.16303782, -0.23617571,\n",
       "        0.51659845, -1.09321138, -0.74863154,  0.9939067 ,  0.22621817])"
      ]
     },
     "execution_count": 9,
     "metadata": {},
     "output_type": "execute_result"
    }
   ],
   "source": [
    "all_samples[np.random.permutation(40)]"
   ]
  },
  {
   "cell_type": "code",
   "execution_count": 10,
   "metadata": {},
   "outputs": [
    {
     "name": "stdout",
     "output_type": "stream",
     "text": [
      "-0.20958898720590982\n"
     ]
    }
   ],
   "source": [
    "permuted_sample = np.random.permutation(all_samples)\n",
    "permuted_difference = permuted_sample[:20].mean() - permuted_sample[20:].mean()\n",
    "print(permuted_difference)"
   ]
  },
  {
   "cell_type": "code",
   "execution_count": 11,
   "metadata": {},
   "outputs": [],
   "source": [
    "permuted_differences = np.zeros(5000)\n",
    "for ii in range(5000):\n",
    "    permuted_sample = np.random.permutation(all_samples)\n",
    "    permuted_difference = permuted_sample[:20].mean() - permuted_sample[20:].mean()\n",
    "    permuted_differences[ii] = permuted_difference"
   ]
  },
  {
   "cell_type": "code",
   "execution_count": 12,
   "metadata": {},
   "outputs": [
    {
     "data": {
      "image/png": "[encoded data removed]",
      "text/plain": [
       "<Figure size 432x288 with 1 Axes>"
      ]
     },
     "metadata": {},
     "output_type": "display_data"
    }
   ],
   "source": [
    "plt.hist(permuted_differences, 50);"
   ]
  },
  {
   "cell_type": "code",
   "execution_count": 13,
   "metadata": {},
   "outputs": [
    {
     "name": "stdout",
     "output_type": "stream",
     "text": [
      "0.025\n"
     ]
    }
   ],
   "source": [
    "p_value = (np.abs(permuted_differences) >= np.abs(actual_difference)).mean()\n",
    "print(p_value)"
   ]
  },
  {
   "cell_type": "code",
   "execution_count": null,
   "metadata": {},
   "outputs": [],
   "source": []
  }
 ],
 "metadata": {
  "kernelspec": {
   "display_name": "Python 3",
   "language": "python",
   "name": "python3"
  },
  "language_info": {
   "codemirror_mode": {
    "name": "ipython",
    "version": 3
   },
   "file_extension": ".py",
   "mimetype": "text/x-python",
   "name": "python",
   "nbconvert_exporter": "python",
   "pygments_lexer": "ipython3",
   "version": "3.6.8"
  }
 },
 "nbformat": 4,
 "nbformat_minor": 2
}
