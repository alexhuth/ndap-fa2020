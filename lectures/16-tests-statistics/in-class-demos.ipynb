{
 "cells": [
  {
   "cell_type": "code",
   "execution_count": 1,
   "metadata": {},
   "outputs": [],
   "source": [
    "%matplotlib inline\n",
    "import numpy as np\n",
    "from matplotlib import pyplot as plt"
   ]
  },
  {
   "cell_type": "code",
   "execution_count": 12,
   "metadata": {},
   "outputs": [],
   "source": [
    "fair_coin_flips = np.random.rand(10000,100) > 0.5"
   ]
  },
  {
   "cell_type": "code",
   "execution_count": 13,
   "metadata": {},
   "outputs": [
    {
     "data": {
      "text/plain": [
       "(10000,)"
      ]
     },
     "execution_count": 13,
     "metadata": {},
     "output_type": "execute_result"
    }
   ],
   "source": [
    "total_heads = fair_coin_flips.sum(1)\n",
    "total_heads.shape"
   ]
  },
  {
   "cell_type": "code",
   "execution_count": 14,
   "metadata": {},
   "outputs": [
    {
     "data": {
      "text/plain": [
       "Text(0,0.5,'Number of experiments')"
      ]
     },
     "execution_count": 14,
     "metadata": {},
     "output_type": "execute_result"
    },
    {
     "data": {
      "image/png": "[encoded data removed]",
      "text/plain": [
       "<Figure size 432x288 with 1 Axes>"
      ]
     },
     "metadata": {},
     "output_type": "display_data"
    }
   ],
   "source": [
    "plt.hist(total_heads, bins=np.arange(100));\n",
    "plt.xlabel(\"Number of heads in 100 flips of fair coin\")\n",
    "plt.ylabel(\"Number of experiments\")"
   ]
  },
  {
   "cell_type": "code",
   "execution_count": 15,
   "metadata": {},
   "outputs": [
    {
     "name": "stdout",
     "output_type": "stream",
     "text": [
      "0.0118\n"
     ]
    }
   ],
   "source": [
    "p_value = ((total_heads >= 63) | (total_heads <= 37)).mean()\n",
    "print(p_value)"
   ]
  },
  {
   "cell_type": "code",
   "execution_count": null,
   "metadata": {},
   "outputs": [],
   "source": [
    "# flipping a (fair) coin twice, what are the possibilities?\n",
    "# H H - 25%\n",
    "# H T - 25%\n",
    "# T H - 25%\n",
    "# T T - 25%\n",
    "\n",
    "# collapse by number of heads:\n",
    "# 2 heads - 25%\n",
    "# 1 heads - 50%\n",
    "# 0 heads - 25%\n",
    "\n",
    "# THIS IS A BINOMIAL DISTRIBUTION!\n",
    "# BINOMIAL(n=2, q=0.5)"
   ]
  },
  {
   "cell_type": "code",
   "execution_count": null,
   "metadata": {},
   "outputs": [],
   "source": [
    "# probability of flipping a coin k times and getting heads every time\n",
    "# (where q is the probability of heads on one coin flip)\n",
    "# = q^k\n",
    "\n",
    "# probability of flipping a coin (n-k) times and getting tails every time\n",
    "# = (1 - q)^(n - k)\n",
    "\n",
    "# the number of ways to choose k things out of n things\n",
    "# (the number of ways to get k heads in n coin flips)\n",
    "# = n-choose-k"
   ]
  },
  {
   "cell_type": "code",
   "execution_count": 16,
   "metadata": {},
   "outputs": [],
   "source": [
    "import scipy.stats"
   ]
  },
  {
   "cell_type": "code",
   "execution_count": 17,
   "metadata": {},
   "outputs": [
    {
     "data": {
      "text/plain": [
       "17310309456440.0"
      ]
     },
     "execution_count": 17,
     "metadata": {},
     "output_type": "execute_result"
    }
   ],
   "source": [
    "scipy.special.comb(100,90) # number of ways to choose 90 things from 100"
   ]
  },
  {
   "cell_type": "code",
   "execution_count": 18,
   "metadata": {},
   "outputs": [
    {
     "data": {
      "text/plain": [
       "4950.0"
      ]
     },
     "execution_count": 18,
     "metadata": {},
     "output_type": "execute_result"
    }
   ],
   "source": [
    "scipy.special.comb(100,2) # number of ways to choose 2 things from 100"
   ]
  },
  {
   "cell_type": "code",
   "execution_count": 19,
   "metadata": {},
   "outputs": [],
   "source": [
    "k_values = range(101)\n",
    "n_choose_k = [scipy.special.comb(100,k) for k in k_values]"
   ]
  },
  {
   "cell_type": "code",
   "execution_count": 20,
   "metadata": {},
   "outputs": [
    {
     "data": {
      "image/png": "[encoded data removed]",
      "text/plain": [
       "<Figure size 432x288 with 1 Axes>"
      ]
     },
     "metadata": {},
     "output_type": "display_data"
    }
   ],
   "source": [
    "plt.plot(k_values, n_choose_k, 'o-');"
   ]
  },
  {
   "cell_type": "code",
   "execution_count": 21,
   "metadata": {},
   "outputs": [],
   "source": [
    "# let's do a binomial test in scipy!"
   ]
  },
  {
   "cell_type": "code",
   "execution_count": 22,
   "metadata": {},
   "outputs": [
    {
     "data": {
      "text/plain": [
       "0.012032975725363472"
      ]
     },
     "execution_count": 22,
     "metadata": {},
     "output_type": "execute_result"
    }
   ],
   "source": [
    "scipy.stats.binom_test(63, 100, p=0.5)"
   ]
  },
  {
   "cell_type": "markdown",
   "metadata": {},
   "source": [
    "# Descriptive Statistics!"
   ]
  },
  {
   "cell_type": "code",
   "execution_count": 23,
   "metadata": {},
   "outputs": [],
   "source": [
    "test_arr = np.array([14, 27, 92, 60, -12, 4])"
   ]
  },
  {
   "cell_type": "code",
   "execution_count": 24,
   "metadata": {},
   "outputs": [
    {
     "data": {
      "text/plain": [
       "30.833333333333332"
      ]
     },
     "execution_count": 24,
     "metadata": {},
     "output_type": "execute_result"
    }
   ],
   "source": [
    "test_arr.mean() # what is the mean?"
   ]
  },
  {
   "cell_type": "code",
   "execution_count": 25,
   "metadata": {},
   "outputs": [
    {
     "name": "stdout",
     "output_type": "stream",
     "text": [
      "185\n",
      "6\n",
      "30.833333333333332\n"
     ]
    }
   ],
   "source": [
    "print(test_arr.sum())\n",
    "print(len(test_arr))\n",
    "print(test_arr.sum() / len(test_arr))"
   ]
  },
  {
   "cell_type": "code",
   "execution_count": 26,
   "metadata": {},
   "outputs": [
    {
     "data": {
      "text/plain": [
       "array([[0.1998149 , 0.90864338, 0.93335058, 0.73788197, 0.12613344,\n",
       "        0.80159753, 0.80995564, 0.36334798, 0.05669728, 0.92990076],\n",
       "       [0.19601595, 0.50066518, 0.58723304, 0.00771722, 0.92632548,\n",
       "        0.55405845, 0.40476332, 0.50453519, 0.27705281, 0.12750107],\n",
       "       [0.36900168, 0.46896485, 0.71014311, 0.31268068, 0.30870666,\n",
       "        0.19125267, 0.12922873, 0.6385656 , 0.69490191, 0.68099261],\n",
       "       [0.36442327, 0.39489778, 0.44752244, 0.97193814, 0.8843784 ,\n",
       "        0.32016127, 0.68008561, 0.67712031, 0.45283191, 0.26145853],\n",
       "       [0.80450724, 0.17824451, 0.62746856, 0.53801043, 0.10776669,\n",
       "        0.95682289, 0.25795663, 0.65903881, 0.81608053, 0.23712131]])"
      ]
     },
     "execution_count": 26,
     "metadata": {},
     "output_type": "execute_result"
    }
   ],
   "source": [
    "rand_arr = np.random.rand(5,10)\n",
    "rand_arr"
   ]
  },
  {
   "cell_type": "code",
   "execution_count": 27,
   "metadata": {},
   "outputs": [
    {
     "data": {
      "text/plain": [
       "array([0.38675261, 0.49028314, 0.66114354, 0.51364569, 0.47066214,\n",
       "       0.56477856, 0.45639799, 0.56852158, 0.45951289, 0.44739486])"
      ]
     },
     "execution_count": 27,
     "metadata": {},
     "output_type": "execute_result"
    }
   ],
   "source": [
    "rand_arr.mean(axis=0) # mean of each column aka mean over the rows"
   ]
  },
  {
   "cell_type": "code",
   "execution_count": 28,
   "metadata": {},
   "outputs": [
    {
     "data": {
      "text/plain": [
       "array([ 14,  27,  92,  60, -12,   4])"
      ]
     },
     "execution_count": 28,
     "metadata": {},
     "output_type": "execute_result"
    }
   ],
   "source": [
    "test_arr"
   ]
  },
  {
   "cell_type": "code",
   "execution_count": 29,
   "metadata": {},
   "outputs": [
    {
     "data": {
      "text/plain": [
       "array([-16.83333333,  -3.83333333,  61.16666667,  29.16666667,\n",
       "       -42.83333333, -26.83333333])"
      ]
     },
     "execution_count": 29,
     "metadata": {},
     "output_type": "execute_result"
    }
   ],
   "source": [
    "test_arr - test_arr.mean() # deviation from the mean"
   ]
  },
  {
   "cell_type": "code",
   "execution_count": 30,
   "metadata": {},
   "outputs": [
    {
     "data": {
      "text/plain": [
       "1.7763568394002505e-15"
      ]
     },
     "execution_count": 30,
     "metadata": {},
     "output_type": "execute_result"
    }
   ],
   "source": [
    "(test_arr - test_arr.mean()).mean()"
   ]
  },
  {
   "cell_type": "code",
   "execution_count": 31,
   "metadata": {},
   "outputs": [
    {
     "data": {
      "text/plain": [
       "1240.8055555555557"
      ]
     },
     "execution_count": 31,
     "metadata": {},
     "output_type": "execute_result"
    }
   ],
   "source": [
    "((test_arr - test_arr.mean()) ** 2).mean() # average sqrd dev. from mean"
   ]
  },
  {
   "cell_type": "code",
   "execution_count": 32,
   "metadata": {},
   "outputs": [
    {
     "data": {
      "text/plain": [
       "1240.8055555555557"
      ]
     },
     "execution_count": 32,
     "metadata": {},
     "output_type": "execute_result"
    }
   ],
   "source": [
    "test_arr.var() # is the same as the mean!"
   ]
  },
  {
   "cell_type": "code",
   "execution_count": null,
   "metadata": {},
   "outputs": [],
   "source": []
  }
 ],
 "metadata": {
  "kernelspec": {
   "display_name": "Python 3",
   "language": "python",
   "name": "python3"
  },
  "language_info": {
   "codemirror_mode": {
    "name": "ipython",
    "version": 3
   },
   "file_extension": ".py",
   "mimetype": "text/x-python",
   "name": "python",
   "nbconvert_exporter": "python",
   "pygments_lexer": "ipython3",
   "version": "3.6.8"
  }
 },
 "nbformat": 4,
 "nbformat_minor": 2
}
