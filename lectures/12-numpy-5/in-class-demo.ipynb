{
 "cells": [
  {
   "cell_type": "code",
   "execution_count": 1,
   "metadata": {},
   "outputs": [],
   "source": [
    "import numpy as np"
   ]
  },
  {
   "cell_type": "markdown",
   "metadata": {},
   "source": [
    "# Assignment Recap"
   ]
  },
  {
   "cell_type": "code",
   "execution_count": 2,
   "metadata": {},
   "outputs": [
    {
     "data": {
      "text/plain": [
       "array([0, 1, 2, 3, 4, 5, 6, 7, 8, 9])"
      ]
     },
     "execution_count": 2,
     "metadata": {},
     "output_type": "execute_result"
    }
   ],
   "source": [
    "test = np.arange(10)\n",
    "test"
   ]
  },
  {
   "cell_type": "code",
   "execution_count": 3,
   "metadata": {},
   "outputs": [],
   "source": [
    "test[3] = 33 # assigning a single value"
   ]
  },
  {
   "cell_type": "code",
   "execution_count": 4,
   "metadata": {},
   "outputs": [
    {
     "data": {
      "text/plain": [
       "array([ 0,  1,  2, 33,  4,  5,  6,  7,  8,  9])"
      ]
     },
     "execution_count": 4,
     "metadata": {},
     "output_type": "execute_result"
    }
   ],
   "source": [
    "test"
   ]
  },
  {
   "cell_type": "code",
   "execution_count": 5,
   "metadata": {},
   "outputs": [
    {
     "data": {
      "text/plain": [
       "array([0, 1, 2, 3, 4, 5, 6, 7, 8, 9])"
      ]
     },
     "execution_count": 5,
     "metadata": {},
     "output_type": "execute_result"
    }
   ],
   "source": [
    "test2 = np.arange(10)\n",
    "test2"
   ]
  },
  {
   "cell_type": "code",
   "execution_count": 6,
   "metadata": {},
   "outputs": [
    {
     "data": {
      "text/plain": [
       "array([33, 33, 33, 33, 33,  5,  6,  7,  8,  9])"
      ]
     },
     "execution_count": 6,
     "metadata": {},
     "output_type": "execute_result"
    }
   ],
   "source": [
    "test2[:5] = 33\n",
    "test2"
   ]
  },
  {
   "cell_type": "code",
   "execution_count": 7,
   "metadata": {},
   "outputs": [
    {
     "data": {
      "text/plain": [
       "array([33,  1, 33,  3, 33,  5, 33,  7, 33,  9])"
      ]
     },
     "execution_count": 7,
     "metadata": {},
     "output_type": "execute_result"
    }
   ],
   "source": [
    "test3 = np.arange(10)\n",
    "test3[::2] = 33\n",
    "test3"
   ]
  },
  {
   "cell_type": "code",
   "execution_count": 9,
   "metadata": {},
   "outputs": [
    {
     "data": {
      "text/plain": [
       "array([90, 80, 70,  3,  4,  5,  6,  7,  8,  9])"
      ]
     },
     "execution_count": 9,
     "metadata": {},
     "output_type": "execute_result"
    }
   ],
   "source": [
    "test4 = np.arange(10)\n",
    "test4[:3] = np.array([90, 80, 70])\n",
    "test4"
   ]
  },
  {
   "cell_type": "markdown",
   "metadata": {},
   "source": [
    "# Broadcasting"
   ]
  },
  {
   "cell_type": "code",
   "execution_count": 10,
   "metadata": {},
   "outputs": [
    {
     "data": {
      "text/plain": [
       "array([[  0,   1,   2,   3,   4,   5,   6,   7,   8,   9],\n",
       "       [ 10,  11,  12,  13,  14,  15,  16,  17,  18,  19],\n",
       "       [ 20,  21,  22,  23,  24,  25,  26,  27,  28,  29],\n",
       "       [ 30,  31,  32,  33,  34,  35,  36,  37,  38,  39],\n",
       "       [ 40,  41,  42,  43,  44,  45,  46,  47,  48,  49],\n",
       "       [ 50,  51,  52,  53,  54,  55,  56,  57,  58,  59],\n",
       "       [ 60,  61,  62,  63,  64,  65,  66,  67,  68,  69],\n",
       "       [ 70,  71,  72,  73,  74,  75,  76,  77,  78,  79],\n",
       "       [ 80,  81,  82,  83,  84,  85,  86,  87,  88,  89],\n",
       "       [ 90,  91,  92,  93,  94,  95,  96,  97,  98,  99],\n",
       "       [100, 101, 102, 103, 104, 105, 106, 107, 108, 109],\n",
       "       [110, 111, 112, 113, 114, 115, 116, 117, 118, 119],\n",
       "       [120, 121, 122, 123, 124, 125, 126, 127, 128, 129],\n",
       "       [130, 131, 132, 133, 134, 135, 136, 137, 138, 139],\n",
       "       [140, 141, 142, 143, 144, 145, 146, 147, 148, 149],\n",
       "       [150, 151, 152, 153, 154, 155, 156, 157, 158, 159],\n",
       "       [160, 161, 162, 163, 164, 165, 166, 167, 168, 169],\n",
       "       [170, 171, 172, 173, 174, 175, 176, 177, 178, 179],\n",
       "       [180, 181, 182, 183, 184, 185, 186, 187, 188, 189],\n",
       "       [190, 191, 192, 193, 194, 195, 196, 197, 198, 199],\n",
       "       [200, 201, 202, 203, 204, 205, 206, 207, 208, 209],\n",
       "       [210, 211, 212, 213, 214, 215, 216, 217, 218, 219],\n",
       "       [220, 221, 222, 223, 224, 225, 226, 227, 228, 229],\n",
       "       [230, 231, 232, 233, 234, 235, 236, 237, 238, 239],\n",
       "       [240, 241, 242, 243, 244, 245, 246, 247, 248, 249],\n",
       "       [250, 251, 252, 253, 254, 255, 256, 257, 258, 259],\n",
       "       [260, 261, 262, 263, 264, 265, 266, 267, 268, 269],\n",
       "       [270, 271, 272, 273, 274, 275, 276, 277, 278, 279],\n",
       "       [280, 281, 282, 283, 284, 285, 286, 287, 288, 289],\n",
       "       [290, 291, 292, 293, 294, 295, 296, 297, 298, 299],\n",
       "       [300, 301, 302, 303, 304, 305, 306, 307, 308, 309],\n",
       "       [310, 311, 312, 313, 314, 315, 316, 317, 318, 319],\n",
       "       [320, 321, 322, 323, 324, 325, 326, 327, 328, 329],\n",
       "       [330, 331, 332, 333, 334, 335, 336, 337, 338, 339],\n",
       "       [340, 341, 342, 343, 344, 345, 346, 347, 348, 349],\n",
       "       [350, 351, 352, 353, 354, 355, 356, 357, 358, 359],\n",
       "       [360, 361, 362, 363, 364, 365, 366, 367, 368, 369],\n",
       "       [370, 371, 372, 373, 374, 375, 376, 377, 378, 379],\n",
       "       [380, 381, 382, 383, 384, 385, 386, 387, 388, 389],\n",
       "       [390, 391, 392, 393, 394, 395, 396, 397, 398, 399],\n",
       "       [400, 401, 402, 403, 404, 405, 406, 407, 408, 409],\n",
       "       [410, 411, 412, 413, 414, 415, 416, 417, 418, 419],\n",
       "       [420, 421, 422, 423, 424, 425, 426, 427, 428, 429],\n",
       "       [430, 431, 432, 433, 434, 435, 436, 437, 438, 439],\n",
       "       [440, 441, 442, 443, 444, 445, 446, 447, 448, 449],\n",
       "       [450, 451, 452, 453, 454, 455, 456, 457, 458, 459],\n",
       "       [460, 461, 462, 463, 464, 465, 466, 467, 468, 469],\n",
       "       [470, 471, 472, 473, 474, 475, 476, 477, 478, 479],\n",
       "       [480, 481, 482, 483, 484, 485, 486, 487, 488, 489],\n",
       "       [490, 491, 492, 493, 494, 495, 496, 497, 498, 499]])"
      ]
     },
     "execution_count": 10,
     "metadata": {},
     "output_type": "execute_result"
    }
   ],
   "source": [
    "arr = np.arange(500).reshape((50,10))\n",
    "arr"
   ]
  },
  {
   "cell_type": "code",
   "execution_count": 12,
   "metadata": {},
   "outputs": [
    {
     "data": {
      "text/plain": [
       "array([9, 8, 7, 6, 5, 4, 3, 2, 1, 0])"
      ]
     },
     "execution_count": 12,
     "metadata": {},
     "output_type": "execute_result"
    }
   ],
   "source": [
    "to_add = np.arange(10)[::-1]\n",
    "to_add"
   ]
  },
  {
   "cell_type": "code",
   "execution_count": 13,
   "metadata": {},
   "outputs": [
    {
     "data": {
      "text/plain": [
       "array([0, 1, 2, 3, 4, 5, 6, 7, 8, 9])"
      ]
     },
     "execution_count": 13,
     "metadata": {},
     "output_type": "execute_result"
    }
   ],
   "source": [
    "arr[0] # first row of our array"
   ]
  },
  {
   "cell_type": "code",
   "execution_count": 15,
   "metadata": {},
   "outputs": [
    {
     "data": {
      "text/plain": [
       "((10,), (10,))"
      ]
     },
     "execution_count": 15,
     "metadata": {},
     "output_type": "execute_result"
    }
   ],
   "source": [
    "arr[0].shape, to_add.shape # same shape"
   ]
  },
  {
   "cell_type": "code",
   "execution_count": 16,
   "metadata": {},
   "outputs": [
    {
     "data": {
      "text/plain": [
       "array([9, 9, 9, 9, 9, 9, 9, 9, 9, 9])"
      ]
     },
     "execution_count": 16,
     "metadata": {},
     "output_type": "execute_result"
    }
   ],
   "source": [
    "arr[0] + to_add # we can add to_add to one row, that works great"
   ]
  },
  {
   "cell_type": "code",
   "execution_count": 17,
   "metadata": {},
   "outputs": [
    {
     "data": {
      "text/plain": [
       "(50, 10)"
      ]
     },
     "execution_count": 17,
     "metadata": {},
     "output_type": "execute_result"
    }
   ],
   "source": [
    "arr.shape"
   ]
  },
  {
   "cell_type": "markdown",
   "metadata": {},
   "source": [
    "## How do we add to_add to EVERY row of arr?"
   ]
  },
  {
   "cell_type": "code",
   "execution_count": 44,
   "metadata": {},
   "outputs": [
    {
     "data": {
      "text/plain": [
       "array([[  9,   9,   9,   9,   9,   9,   9,   9,   9,   9],\n",
       "       [ 19,  19,  19,  19,  19,  19,  19,  19,  19,  19],\n",
       "       [ 29,  29,  29,  29,  29,  29,  29,  29,  29,  29],\n",
       "       [ 39,  39,  39,  39,  39,  39,  39,  39,  39,  39],\n",
       "       [ 49,  49,  49,  49,  49,  49,  49,  49,  49,  49],\n",
       "       [ 59,  59,  59,  59,  59,  59,  59,  59,  59,  59],\n",
       "       [ 69,  69,  69,  69,  69,  69,  69,  69,  69,  69],\n",
       "       [ 79,  79,  79,  79,  79,  79,  79,  79,  79,  79],\n",
       "       [ 89,  89,  89,  89,  89,  89,  89,  89,  89,  89],\n",
       "       [ 99,  99,  99,  99,  99,  99,  99,  99,  99,  99],\n",
       "       [109, 109, 109, 109, 109, 109, 109, 109, 109, 109],\n",
       "       [119, 119, 119, 119, 119, 119, 119, 119, 119, 119],\n",
       "       [129, 129, 129, 129, 129, 129, 129, 129, 129, 129],\n",
       "       [139, 139, 139, 139, 139, 139, 139, 139, 139, 139],\n",
       "       [149, 149, 149, 149, 149, 149, 149, 149, 149, 149],\n",
       "       [159, 159, 159, 159, 159, 159, 159, 159, 159, 159],\n",
       "       [169, 169, 169, 169, 169, 169, 169, 169, 169, 169],\n",
       "       [179, 179, 179, 179, 179, 179, 179, 179, 179, 179],\n",
       "       [189, 189, 189, 189, 189, 189, 189, 189, 189, 189],\n",
       "       [199, 199, 199, 199, 199, 199, 199, 199, 199, 199],\n",
       "       [209, 209, 209, 209, 209, 209, 209, 209, 209, 209],\n",
       "       [219, 219, 219, 219, 219, 219, 219, 219, 219, 219],\n",
       "       [229, 229, 229, 229, 229, 229, 229, 229, 229, 229],\n",
       "       [239, 239, 239, 239, 239, 239, 239, 239, 239, 239],\n",
       "       [249, 249, 249, 249, 249, 249, 249, 249, 249, 249],\n",
       "       [259, 259, 259, 259, 259, 259, 259, 259, 259, 259],\n",
       "       [269, 269, 269, 269, 269, 269, 269, 269, 269, 269],\n",
       "       [279, 279, 279, 279, 279, 279, 279, 279, 279, 279],\n",
       "       [289, 289, 289, 289, 289, 289, 289, 289, 289, 289],\n",
       "       [299, 299, 299, 299, 299, 299, 299, 299, 299, 299],\n",
       "       [309, 309, 309, 309, 309, 309, 309, 309, 309, 309],\n",
       "       [319, 319, 319, 319, 319, 319, 319, 319, 319, 319],\n",
       "       [329, 329, 329, 329, 329, 329, 329, 329, 329, 329],\n",
       "       [339, 339, 339, 339, 339, 339, 339, 339, 339, 339],\n",
       "       [349, 349, 349, 349, 349, 349, 349, 349, 349, 349],\n",
       "       [359, 359, 359, 359, 359, 359, 359, 359, 359, 359],\n",
       "       [369, 369, 369, 369, 369, 369, 369, 369, 369, 369],\n",
       "       [379, 379, 379, 379, 379, 379, 379, 379, 379, 379],\n",
       "       [389, 389, 389, 389, 389, 389, 389, 389, 389, 389],\n",
       "       [399, 399, 399, 399, 399, 399, 399, 399, 399, 399],\n",
       "       [409, 409, 409, 409, 409, 409, 409, 409, 409, 409],\n",
       "       [419, 419, 419, 419, 419, 419, 419, 419, 419, 419],\n",
       "       [429, 429, 429, 429, 429, 429, 429, 429, 429, 429],\n",
       "       [439, 439, 439, 439, 439, 439, 439, 439, 439, 439],\n",
       "       [449, 449, 449, 449, 449, 449, 449, 449, 449, 449],\n",
       "       [459, 459, 459, 459, 459, 459, 459, 459, 459, 459],\n",
       "       [469, 469, 469, 469, 469, 469, 469, 469, 469, 469],\n",
       "       [479, 479, 479, 479, 479, 479, 479, 479, 479, 479],\n",
       "       [489, 489, 489, 489, 489, 489, 489, 489, 489, 489],\n",
       "       [499, 499, 499, 499, 499, 499, 499, 499, 499, 499]])"
      ]
     },
     "execution_count": 44,
     "metadata": {},
     "output_type": "execute_result"
    }
   ],
   "source": [
    "# we can do it using a for loop\n",
    "# but this is messy and gross\n",
    "arr_copy = arr.copy()\n",
    "for i in range(arr_copy.shape[0]):\n",
    "    arr_copy[i] = arr_copy[i] + to_add\n",
    "\n",
    "arr_copy"
   ]
  },
  {
   "cell_type": "code",
   "execution_count": 21,
   "metadata": {},
   "outputs": [
    {
     "data": {
      "text/plain": [
       "((50, 10), (10,))"
      ]
     },
     "execution_count": 21,
     "metadata": {},
     "output_type": "execute_result"
    }
   ],
   "source": [
    "arr.shape, to_add.shape"
   ]
  },
  {
   "cell_type": "code",
   "execution_count": 19,
   "metadata": {
    "scrolled": true
   },
   "outputs": [
    {
     "data": {
      "text/plain": [
       "array([[  9,   9,   9,   9,   9,   9,   9,   9,   9,   9],\n",
       "       [ 19,  19,  19,  19,  19,  19,  19,  19,  19,  19],\n",
       "       [ 29,  29,  29,  29,  29,  29,  29,  29,  29,  29],\n",
       "       [ 39,  39,  39,  39,  39,  39,  39,  39,  39,  39],\n",
       "       [ 49,  49,  49,  49,  49,  49,  49,  49,  49,  49],\n",
       "       [ 59,  59,  59,  59,  59,  59,  59,  59,  59,  59],\n",
       "       [ 69,  69,  69,  69,  69,  69,  69,  69,  69,  69],\n",
       "       [ 79,  79,  79,  79,  79,  79,  79,  79,  79,  79],\n",
       "       [ 89,  89,  89,  89,  89,  89,  89,  89,  89,  89],\n",
       "       [ 99,  99,  99,  99,  99,  99,  99,  99,  99,  99],\n",
       "       [109, 109, 109, 109, 109, 109, 109, 109, 109, 109],\n",
       "       [119, 119, 119, 119, 119, 119, 119, 119, 119, 119],\n",
       "       [129, 129, 129, 129, 129, 129, 129, 129, 129, 129],\n",
       "       [139, 139, 139, 139, 139, 139, 139, 139, 139, 139],\n",
       "       [149, 149, 149, 149, 149, 149, 149, 149, 149, 149],\n",
       "       [159, 159, 159, 159, 159, 159, 159, 159, 159, 159],\n",
       "       [169, 169, 169, 169, 169, 169, 169, 169, 169, 169],\n",
       "       [179, 179, 179, 179, 179, 179, 179, 179, 179, 179],\n",
       "       [189, 189, 189, 189, 189, 189, 189, 189, 189, 189],\n",
       "       [199, 199, 199, 199, 199, 199, 199, 199, 199, 199],\n",
       "       [209, 209, 209, 209, 209, 209, 209, 209, 209, 209],\n",
       "       [219, 219, 219, 219, 219, 219, 219, 219, 219, 219],\n",
       "       [229, 229, 229, 229, 229, 229, 229, 229, 229, 229],\n",
       "       [239, 239, 239, 239, 239, 239, 239, 239, 239, 239],\n",
       "       [249, 249, 249, 249, 249, 249, 249, 249, 249, 249],\n",
       "       [259, 259, 259, 259, 259, 259, 259, 259, 259, 259],\n",
       "       [269, 269, 269, 269, 269, 269, 269, 269, 269, 269],\n",
       "       [279, 279, 279, 279, 279, 279, 279, 279, 279, 279],\n",
       "       [289, 289, 289, 289, 289, 289, 289, 289, 289, 289],\n",
       "       [299, 299, 299, 299, 299, 299, 299, 299, 299, 299],\n",
       "       [309, 309, 309, 309, 309, 309, 309, 309, 309, 309],\n",
       "       [319, 319, 319, 319, 319, 319, 319, 319, 319, 319],\n",
       "       [329, 329, 329, 329, 329, 329, 329, 329, 329, 329],\n",
       "       [339, 339, 339, 339, 339, 339, 339, 339, 339, 339],\n",
       "       [349, 349, 349, 349, 349, 349, 349, 349, 349, 349],\n",
       "       [359, 359, 359, 359, 359, 359, 359, 359, 359, 359],\n",
       "       [369, 369, 369, 369, 369, 369, 369, 369, 369, 369],\n",
       "       [379, 379, 379, 379, 379, 379, 379, 379, 379, 379],\n",
       "       [389, 389, 389, 389, 389, 389, 389, 389, 389, 389],\n",
       "       [399, 399, 399, 399, 399, 399, 399, 399, 399, 399],\n",
       "       [409, 409, 409, 409, 409, 409, 409, 409, 409, 409],\n",
       "       [419, 419, 419, 419, 419, 419, 419, 419, 419, 419],\n",
       "       [429, 429, 429, 429, 429, 429, 429, 429, 429, 429],\n",
       "       [439, 439, 439, 439, 439, 439, 439, 439, 439, 439],\n",
       "       [449, 449, 449, 449, 449, 449, 449, 449, 449, 449],\n",
       "       [459, 459, 459, 459, 459, 459, 459, 459, 459, 459],\n",
       "       [469, 469, 469, 469, 469, 469, 469, 469, 469, 469],\n",
       "       [479, 479, 479, 479, 479, 479, 479, 479, 479, 479],\n",
       "       [489, 489, 489, 489, 489, 489, 489, 489, 489, 489],\n",
       "       [499, 499, 499, 499, 499, 499, 499, 499, 499, 499]])"
      ]
     },
     "execution_count": 19,
     "metadata": {},
     "output_type": "execute_result"
    }
   ],
   "source": [
    "arr + to_add # broadcasting is magic!"
   ]
  },
  {
   "cell_type": "code",
   "execution_count": 22,
   "metadata": {},
   "outputs": [
    {
     "data": {
      "text/plain": [
       "((50, 10), (50,))"
      ]
     },
     "execution_count": 22,
     "metadata": {},
     "output_type": "execute_result"
    }
   ],
   "source": [
    "# what if we wanted to add a vector to each COLUMN of arr?\n",
    "to_add2 = np.arange(50)\n",
    "arr.shape, to_add2.shape"
   ]
  },
  {
   "cell_type": "code",
   "execution_count": 23,
   "metadata": {},
   "outputs": [
    {
     "ename": "ValueError",
     "evalue": "operands could not be broadcast together with shapes (50,10) (50,) ",
     "output_type": "error",
     "traceback": [
      "\u001b[0;31m---------------------------------------------------------------------------\u001b[0m",
      "\u001b[0;31mValueError\u001b[0m                                Traceback (most recent call last)",
      "\u001b[0;32m<ipython-input-23-295f0caeb9b8>\u001b[0m in \u001b[0;36m<module>\u001b[0;34m()\u001b[0m\n\u001b[0;32m----> 1\u001b[0;31m \u001b[0marr\u001b[0m \u001b[0;34m+\u001b[0m \u001b[0mto_add2\u001b[0m\u001b[0;34m\u001b[0m\u001b[0;34m\u001b[0m\u001b[0m\n\u001b[0m",
      "\u001b[0;31mValueError\u001b[0m: operands could not be broadcast together with shapes (50,10) (50,) "
     ]
    }
   ],
   "source": [
    "arr + to_add2 # doesn't work!"
   ]
  },
  {
   "cell_type": "markdown",
   "metadata": {},
   "source": [
    "### Broadcasting can apply to both arrays!"
   ]
  },
  {
   "cell_type": "code",
   "execution_count": 30,
   "metadata": {},
   "outputs": [
    {
     "name": "stdout",
     "output_type": "stream",
     "text": [
      "(3,)\n",
      "[0 1 2]\n"
     ]
    }
   ],
   "source": [
    "a = np.arange(3)\n",
    "print(a.shape)\n",
    "print(a)"
   ]
  },
  {
   "cell_type": "code",
   "execution_count": 26,
   "metadata": {},
   "outputs": [
    {
     "name": "stdout",
     "output_type": "stream",
     "text": [
      "(3, 1)\n",
      "[[0]\n",
      " [1]\n",
      " [2]]\n"
     ]
    }
   ],
   "source": [
    "b = np.arange(3)[:,np.newaxis]\n",
    "print(b.shape)\n",
    "print(b)"
   ]
  },
  {
   "cell_type": "code",
   "execution_count": 31,
   "metadata": {},
   "outputs": [
    {
     "data": {
      "text/plain": [
       "array([[0, 1, 2],\n",
       "       [1, 2, 3],\n",
       "       [2, 3, 4]])"
      ]
     },
     "execution_count": 31,
     "metadata": {},
     "output_type": "execute_result"
    }
   ],
   "source": [
    "a + b"
   ]
  },
  {
   "cell_type": "code",
   "execution_count": 32,
   "metadata": {},
   "outputs": [
    {
     "data": {
      "text/plain": [
       "(3,)"
      ]
     },
     "execution_count": 32,
     "metadata": {},
     "output_type": "execute_result"
    }
   ],
   "source": [
    "bb = np.arange(3)\n",
    "bb.shape"
   ]
  },
  {
   "cell_type": "code",
   "execution_count": 33,
   "metadata": {},
   "outputs": [
    {
     "data": {
      "text/plain": [
       "(3, 1)"
      ]
     },
     "execution_count": 33,
     "metadata": {},
     "output_type": "execute_result"
    }
   ],
   "source": [
    "bb[:,np.newaxis].shape # np.newaxis \"pads\" with a length-1 dimension"
   ]
  },
  {
   "cell_type": "code",
   "execution_count": 34,
   "metadata": {},
   "outputs": [
    {
     "data": {
      "text/plain": [
       "(3, 1)"
      ]
     },
     "execution_count": 34,
     "metadata": {},
     "output_type": "execute_result"
    }
   ],
   "source": [
    "bb.reshape((3,1)).shape"
   ]
  },
  {
   "cell_type": "code",
   "execution_count": 35,
   "metadata": {},
   "outputs": [
    {
     "data": {
      "text/plain": [
       "(1, 3)"
      ]
     },
     "execution_count": 35,
     "metadata": {},
     "output_type": "execute_result"
    }
   ],
   "source": [
    "bb[np.newaxis,:].shape"
   ]
  },
  {
   "cell_type": "code",
   "execution_count": 36,
   "metadata": {},
   "outputs": [
    {
     "data": {
      "text/plain": [
       "(1, 3)"
      ]
     },
     "execution_count": 36,
     "metadata": {},
     "output_type": "execute_result"
    }
   ],
   "source": [
    "bb.reshape((1,3)).shape"
   ]
  },
  {
   "cell_type": "code",
   "execution_count": 37,
   "metadata": {},
   "outputs": [
    {
     "data": {
      "text/plain": [
       "array([[0, 1, 2],\n",
       "       [1, 2, 3],\n",
       "       [2, 3, 4]])"
      ]
     },
     "execution_count": 37,
     "metadata": {},
     "output_type": "execute_result"
    }
   ],
   "source": [
    "bb[:,np.newaxis] + bb"
   ]
  },
  {
   "cell_type": "code",
   "execution_count": 38,
   "metadata": {},
   "outputs": [
    {
     "data": {
      "text/plain": [
       "array([[0, 1, 2],\n",
       "       [1, 2, 3],\n",
       "       [2, 3, 4]])"
      ]
     },
     "execution_count": 38,
     "metadata": {},
     "output_type": "execute_result"
    }
   ],
   "source": [
    "bb[:,np.newaxis] + bb[np.newaxis,:]"
   ]
  },
  {
   "cell_type": "markdown",
   "metadata": {},
   "source": [
    "## Why does some broadcasting work and some fail?"
   ]
  },
  {
   "cell_type": "code",
   "execution_count": 39,
   "metadata": {},
   "outputs": [
    {
     "data": {
      "text/plain": [
       "((50, 10), (10,))"
      ]
     },
     "execution_count": 39,
     "metadata": {},
     "output_type": "execute_result"
    }
   ],
   "source": [
    "arr.shape, to_add.shape # why does this work?"
   ]
  },
  {
   "cell_type": "code",
   "execution_count": 40,
   "metadata": {},
   "outputs": [
    {
     "data": {
      "text/plain": [
       "((50, 10), (50,))"
      ]
     },
     "execution_count": 40,
     "metadata": {},
     "output_type": "execute_result"
    }
   ],
   "source": [
    "arr.shape, to_add2.shape # why does this NOT work?"
   ]
  },
  {
   "cell_type": "code",
   "execution_count": 41,
   "metadata": {},
   "outputs": [
    {
     "data": {
      "text/plain": [
       "((50, 10), (1, 50))"
      ]
     },
     "execution_count": 41,
     "metadata": {},
     "output_type": "execute_result"
    }
   ],
   "source": [
    "arr.shape, to_add2[np.newaxis].shape # why does this NOT work?"
   ]
  },
  {
   "cell_type": "code",
   "execution_count": 42,
   "metadata": {},
   "outputs": [
    {
     "data": {
      "text/plain": [
       "((50, 10), (50, 1))"
      ]
     },
     "execution_count": 42,
     "metadata": {},
     "output_type": "execute_result"
    }
   ],
   "source": [
    "# suppose we want to add to_add2 to each COLUMN of arr\n",
    "# how?\n",
    "arr.shape, to_add2[:,np.newaxis].shape"
   ]
  },
  {
   "cell_type": "code",
   "execution_count": 43,
   "metadata": {},
   "outputs": [
    {
     "data": {
      "text/plain": [
       "array([[  0,   1,   2,   3,   4,   5,   6,   7,   8,   9],\n",
       "       [ 11,  12,  13,  14,  15,  16,  17,  18,  19,  20],\n",
       "       [ 22,  23,  24,  25,  26,  27,  28,  29,  30,  31],\n",
       "       [ 33,  34,  35,  36,  37,  38,  39,  40,  41,  42],\n",
       "       [ 44,  45,  46,  47,  48,  49,  50,  51,  52,  53],\n",
       "       [ 55,  56,  57,  58,  59,  60,  61,  62,  63,  64],\n",
       "       [ 66,  67,  68,  69,  70,  71,  72,  73,  74,  75],\n",
       "       [ 77,  78,  79,  80,  81,  82,  83,  84,  85,  86],\n",
       "       [ 88,  89,  90,  91,  92,  93,  94,  95,  96,  97],\n",
       "       [ 99, 100, 101, 102, 103, 104, 105, 106, 107, 108],\n",
       "       [110, 111, 112, 113, 114, 115, 116, 117, 118, 119],\n",
       "       [121, 122, 123, 124, 125, 126, 127, 128, 129, 130],\n",
       "       [132, 133, 134, 135, 136, 137, 138, 139, 140, 141],\n",
       "       [143, 144, 145, 146, 147, 148, 149, 150, 151, 152],\n",
       "       [154, 155, 156, 157, 158, 159, 160, 161, 162, 163],\n",
       "       [165, 166, 167, 168, 169, 170, 171, 172, 173, 174],\n",
       "       [176, 177, 178, 179, 180, 181, 182, 183, 184, 185],\n",
       "       [187, 188, 189, 190, 191, 192, 193, 194, 195, 196],\n",
       "       [198, 199, 200, 201, 202, 203, 204, 205, 206, 207],\n",
       "       [209, 210, 211, 212, 213, 214, 215, 216, 217, 218],\n",
       "       [220, 221, 222, 223, 224, 225, 226, 227, 228, 229],\n",
       "       [231, 232, 233, 234, 235, 236, 237, 238, 239, 240],\n",
       "       [242, 243, 244, 245, 246, 247, 248, 249, 250, 251],\n",
       "       [253, 254, 255, 256, 257, 258, 259, 260, 261, 262],\n",
       "       [264, 265, 266, 267, 268, 269, 270, 271, 272, 273],\n",
       "       [275, 276, 277, 278, 279, 280, 281, 282, 283, 284],\n",
       "       [286, 287, 288, 289, 290, 291, 292, 293, 294, 295],\n",
       "       [297, 298, 299, 300, 301, 302, 303, 304, 305, 306],\n",
       "       [308, 309, 310, 311, 312, 313, 314, 315, 316, 317],\n",
       "       [319, 320, 321, 322, 323, 324, 325, 326, 327, 328],\n",
       "       [330, 331, 332, 333, 334, 335, 336, 337, 338, 339],\n",
       "       [341, 342, 343, 344, 345, 346, 347, 348, 349, 350],\n",
       "       [352, 353, 354, 355, 356, 357, 358, 359, 360, 361],\n",
       "       [363, 364, 365, 366, 367, 368, 369, 370, 371, 372],\n",
       "       [374, 375, 376, 377, 378, 379, 380, 381, 382, 383],\n",
       "       [385, 386, 387, 388, 389, 390, 391, 392, 393, 394],\n",
       "       [396, 397, 398, 399, 400, 401, 402, 403, 404, 405],\n",
       "       [407, 408, 409, 410, 411, 412, 413, 414, 415, 416],\n",
       "       [418, 419, 420, 421, 422, 423, 424, 425, 426, 427],\n",
       "       [429, 430, 431, 432, 433, 434, 435, 436, 437, 438],\n",
       "       [440, 441, 442, 443, 444, 445, 446, 447, 448, 449],\n",
       "       [451, 452, 453, 454, 455, 456, 457, 458, 459, 460],\n",
       "       [462, 463, 464, 465, 466, 467, 468, 469, 470, 471],\n",
       "       [473, 474, 475, 476, 477, 478, 479, 480, 481, 482],\n",
       "       [484, 485, 486, 487, 488, 489, 490, 491, 492, 493],\n",
       "       [495, 496, 497, 498, 499, 500, 501, 502, 503, 504],\n",
       "       [506, 507, 508, 509, 510, 511, 512, 513, 514, 515],\n",
       "       [517, 518, 519, 520, 521, 522, 523, 524, 525, 526],\n",
       "       [528, 529, 530, 531, 532, 533, 534, 535, 536, 537],\n",
       "       [539, 540, 541, 542, 543, 544, 545, 546, 547, 548]])"
      ]
     },
     "execution_count": 43,
     "metadata": {},
     "output_type": "execute_result"
    }
   ],
   "source": [
    "arr + to_add2[:,np.newaxis] # this works!!"
   ]
  },
  {
   "cell_type": "code",
   "execution_count": null,
   "metadata": {},
   "outputs": [],
   "source": []
  }
 ],
 "metadata": {
  "kernelspec": {
   "display_name": "Python 3",
   "language": "python",
   "name": "python3"
  },
  "language_info": {
   "codemirror_mode": {
    "name": "ipython",
    "version": 3
   },
   "file_extension": ".py",
   "mimetype": "text/x-python",
   "name": "python",
   "nbconvert_exporter": "python",
   "pygments_lexer": "ipython3",
   "version": "3.6.8"
  }
 },
 "nbformat": 4,
 "nbformat_minor": 2
}
